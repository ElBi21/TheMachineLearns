{
 "cells": [
  {
   "cell_type": "code",
   "execution_count": 1,
   "metadata": {},
   "outputs": [],
   "source": [
    "from __future__ import annotations\n",
    "from typing import Protocol, List, TypeVar, Optional\n",
    "import collections\n",
    "\n",
    "T = TypeVar('T')\n",
    "Location = TypeVar('Location')\n",
    "\n",
    "class Graph(Protocol):\n",
    "    \"\"\"A protocol for representing graphs.\"\"\"\n",
    "    def neighbors(self, id: Location) -> List[Location]:\n",
    "        \"\"\"Returns a list of neighbors for the given location ID.\"\"\"\n",
    "        raise NotImplementedError\n",
    "\n",
    "class SimpleGraph(Graph):\n",
    "    \"\"\"A simple graph implementation.\"\"\"\n",
    "    def __init__(self) -> None:\n",
    "        self.edges: dict[Location, List[Location]] = {}\n",
    "\n",
    "    def neighbors(self, id: Location) -> List[Location]:\n",
    "        \"\"\"Returns a list of neighbors for the given location ID.\"\"\"\n",
    "        return self.edges.get(id, [])"
   ]
  },
  {
   "cell_type": "code",
   "execution_count": 2,
   "metadata": {},
   "outputs": [],
   "source": [
    "example_graph: SimpleGraph = SimpleGraph()\n",
    "example_graph.edges = {\n",
    "    'A': ['B'],\n",
    "    'B': ['C'],\n",
    "    'C': ['B', 'D', 'F'],\n",
    "    'D': ['C', 'E'],\n",
    "    'E': ['F'],\n",
    "    'F': [],\n",
    "}"
   ]
  },
  {
   "cell_type": "code",
   "execution_count": 11,
   "metadata": {},
   "outputs": [],
   "source": [
    "class Queue:\n",
    "    \"\"\"A simple queue implementation using `collections.deque`.\"\"\"\n",
    "    def __init__(self) -> None:\n",
    "        self.elements: collections.deque[T] = collections.deque()\n",
    "\n",
    "    def empty(self) -> bool:\n",
    "        \"\"\"Returns `True` if the queue is empty, `False` otherwise.\"\"\"\n",
    "        return not self.elements\n",
    "\n",
    "    def put(self, x: T) -> None:\n",
    "        \"\"\"Enqueues the given element `x`.\"\"\"\n",
    "        self.elements.append(x)\n",
    "\n",
    "\n",
    "    def get(self) -> T:\n",
    "        \"\"\"Dequeues the last element from the queue.\"\"\"\n",
    "        return self.elements.pop()\n",
    "\n",
    "l = 2   # Set the depth\n",
    "\n",
    "def depth_first_search(graph: Graph, start: Location) -> None:\n",
    "    \"\"\"Performs a depth-first search on the given graph, starting from the given start location.\"\"\"\n",
    "    frontier: Queue = Queue()\n",
    "    frontier.put(start)\n",
    "\n",
    "    reached = {start: [None, 0]}\n",
    "\n",
    "    while not frontier.empty(): # While the frontier has elements\n",
    "        current: Location = frontier.get()  # Get the first element of the frontier\n",
    "        print(f\"  Visiting {current}, the depth is {reached[current][1]}\")  # Print\n",
    "        if reached[current][1] < l:\n",
    "            for next_location in graph.neighbors(current):  # For each of the neighbours\n",
    "                if next_location not in reached.keys():    # If the neightbour is not in the dictionary\n",
    "                    frontier.put(next_location)     # Put it in the frontier\n",
    "                    reached[next_location] = [current, (reached[current][1] + 1)]   # And set where we are"
   ]
  },
  {
   "cell_type": "code",
   "execution_count": 12,
   "metadata": {},
   "outputs": [
    {
     "name": "stdout",
     "output_type": "stream",
     "text": [
      "Reachable from A:\n",
      "  Visiting A, the depth is 0\n",
      "  Visiting B, the depth is 1\n",
      "  Visiting C, the depth is 2\n",
      "Reachable from E:\n",
      "  Visiting E, the depth is 0\n",
      "  Visiting F, the depth is 1\n"
     ]
    }
   ],
   "source": [
    "# Test the breadth-first-search algorithm\n",
    "print('Reachable from A:')\n",
    "depth_first_search(example_graph, 'A')\n",
    "print('Reachable from E:')\n",
    "depth_first_search(example_graph, 'E')"
   ]
  }
 ],
 "metadata": {
  "kernelspec": {
   "display_name": "ailab",
   "language": "python",
   "name": "python3"
  },
  "language_info": {
   "codemirror_mode": {
    "name": "ipython",
    "version": 3
   },
   "file_extension": ".py",
   "mimetype": "text/x-python",
   "name": "python",
   "nbconvert_exporter": "python",
   "pygments_lexer": "ipython3",
   "version": "3.12.2"
  }
 },
 "nbformat": 4,
 "nbformat_minor": 2
}
