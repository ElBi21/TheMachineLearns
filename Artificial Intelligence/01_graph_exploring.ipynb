{
 "cells": [
  {
   "cell_type": "markdown",
   "metadata": {},
   "source": [
    "<h1 align=\"center\"><b>Graph Search</b></h1>\n",
    "<h5 align=\"center\">Graph Traversing Algorithms</h5>\n",
    "\n",
    "---"
   ]
  },
  {
   "cell_type": "markdown",
   "metadata": {},
   "source": [
    "Here we import the first packages and define our first data types"
   ]
  },
  {
   "cell_type": "code",
   "execution_count": 2,
   "metadata": {},
   "outputs": [],
   "source": [
    "from __future__ import annotations\n",
    "from typing import Protocol, List, TypeVar, Optional\n",
    "import collections\n",
    "\n",
    "T = TypeVar(\"T\")\n",
    "Location = TypeVar(\"Location\")"
   ]
  },
  {
   "cell_type": "markdown",
   "metadata": {},
   "source": [
    "Now we proceed to create the classes of the graphs"
   ]
  },
  {
   "cell_type": "code",
   "execution_count": 3,
   "metadata": {},
   "outputs": [],
   "source": [
    "class Graph(Protocol):\n",
    "    def neighbour(self, id: Location) -> List[Location]:\n",
    "        pass\n",
    "\n",
    "class SimpleGraph(Graph):\n",
    "    def __init__(self) -> None:\n",
    "        self.edges: dict[Location, List[Location]] = {}\n",
    "\n",
    "    def neighbour(self, id: Location) -> List[Location]:\n",
    "        return self.edges.get(id, [])"
   ]
  },
  {
   "cell_type": "code",
   "execution_count": 4,
   "metadata": {},
   "outputs": [],
   "source": [
    "class Queue:\n",
    "    def __init__(self) -> None:\n",
    "        self.elements: collections.deque[T] = collections.deque()\n",
    "\n",
    "    def empty(self) -> bool:\n",
    "        return not self.elements\n",
    "    \n",
    "    def put(self, x: T) -> None:\n",
    "        self.elements.append(x)\n",
    "\n",
    "    def get(self) -> T:\n",
    "        return self.elements.popleft()"
   ]
  },
  {
   "cell_type": "markdown",
   "metadata": {},
   "source": [
    "Now, instead of making a full search, we'll just move around the graph. Let's first create a graph"
   ]
  },
  {
   "cell_type": "code",
   "execution_count": 5,
   "metadata": {},
   "outputs": [],
   "source": [
    "example_graph = SimpleGraph()\n",
    "\n",
    "example_graph.edges = {\n",
    "    \"A\" : [\"B\"],\n",
    "    \"B\" : [\"C\"],\n",
    "    \"C\" : [\"B\", \"D\", \"F\"],\n",
    "    \"D\" : [\"C\", \"E\"],\n",
    "    \"E\" : [\"F\"],\n",
    "    \"F\" : [] \n",
    "}"
   ]
  },
  {
   "cell_type": "markdown",
   "metadata": {},
   "source": [
    "The graph has the following structure (???):\n",
    "\n",
    "```raw\n",
    "                   ┌──←──[ D ]──→──┐\n",
    "                   │ ┌─→──┘        ↓\n",
    "           ┌──←──┐ │ │             │\n",
    "[ A ]─→─[ B ]   [ C ]┘            [ E ]\n",
    "           └──→──┘ │               │\n",
    "                   │               ↓\n",
    "                   └──→──[ F ]──←──┘\n",
    "             \n",
    "```"
   ]
  },
  {
   "cell_type": "markdown",
   "metadata": {},
   "source": [
    "Now we want to move around, and we'll use the Breadth First strategy. We define the function `breadth_first_search()` as"
   ]
  },
  {
   "cell_type": "code",
   "execution_count": 10,
   "metadata": {},
   "outputs": [],
   "source": [
    "def breadth_first_search(graph: Graph, start: Location) -> None:\n",
    "    frontier = Queue()\n",
    "    frontier.put(start)\n",
    "\n",
    "    reached: dict[Location, bool] = {start: True}\n",
    "\n",
    "    while not frontier.empty():\n",
    "        current: Location = frontier.get()\n",
    "        print(f\"[ VISIT ] Currently visiting {current}\")\n",
    "\n",
    "        for next_location in graph.neighbour(current):\n",
    "            if next_location not in reached:\n",
    "                frontier.put(next_location)\n",
    "                reached[next_location] = True"
   ]
  },
  {
   "cell_type": "markdown",
   "metadata": {},
   "source": [
    "Let's try to make it run on our graph"
   ]
  },
  {
   "cell_type": "code",
   "execution_count": 9,
   "metadata": {},
   "outputs": [
    {
     "name": "stdout",
     "output_type": "stream",
     "text": [
      "[ VISIT ] Currently visiting A\n",
      "[ VISIT ] Currently visiting B\n",
      "[ VISIT ] Currently visiting C\n",
      "[ VISIT ] Currently visiting D\n",
      "[ VISIT ] Currently visiting F\n",
      "[ VISIT ] Currently visiting E\n",
      "{'A': True, 'B': True, 'C': True, 'D': True, 'F': True, 'E': True}\n",
      "---\n",
      "[ VISIT ] Currently visiting C\n",
      "[ VISIT ] Currently visiting B\n",
      "[ VISIT ] Currently visiting D\n",
      "[ VISIT ] Currently visiting F\n",
      "[ VISIT ] Currently visiting E\n",
      "{'C': True, 'B': True, 'D': True, 'F': True, 'E': True}\n"
     ]
    }
   ],
   "source": [
    "breadth_first_search(example_graph, \"A\")\n",
    "print(\"---\")\n",
    "breadth_first_search(example_graph, \"C\")"
   ]
  },
  {
   "cell_type": "code",
   "execution_count": null,
   "metadata": {},
   "outputs": [],
   "source": [
    "def breadth_first_search_fifo(graph: Graph, start: Location, goal: Location):\n",
    "    frontier = FIFO()\n",
    "    frontier.put(start)\n",
    "    came_from: dict[Location, Optional[Location]] = {}\n",
    "\n",
    "    while not frontier.empty():\n",
    "        current: Location = frontier.get()\n",
    "        if current == goal:\n",
    "            exit\n",
    "        for next in graph.neighbours(current):\n",
    "            if next not in came_from:\n",
    "                frontier.put(next)\n",
    "                came_from[next]\n",
    "    \n",
    "    return came_from"
   ]
  }
 ],
 "metadata": {
  "kernelspec": {
   "display_name": "Python 3",
   "language": "python",
   "name": "python3"
  },
  "language_info": {
   "codemirror_mode": {
    "name": "ipython",
    "version": 3
   },
   "file_extension": ".py",
   "mimetype": "text/x-python",
   "name": "python",
   "nbconvert_exporter": "python",
   "pygments_lexer": "ipython3",
   "version": "3.12.2"
  }
 },
 "nbformat": 4,
 "nbformat_minor": 2
}
