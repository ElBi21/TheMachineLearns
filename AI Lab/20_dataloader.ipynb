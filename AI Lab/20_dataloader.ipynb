{
 "cells": [
  {
   "cell_type": "markdown",
   "metadata": {},
   "source": [
    "<h1 align=\"center\"><b>AI Lab: Computer Vision and NLP</b></h1>\n",
    "<h3 align=\"center\">Lesson 20: Dataloaders</h3>\n",
    "\n",
    "---"
   ]
  },
  {
   "cell_type": "markdown",
   "metadata": {},
   "source": [
    "How can we create a dataloader? Suppose that we have a dataset of images: how do we load images and labels? Usually datasets of images are organized in the following way:\n",
    "\n",
    "```python\n",
    "└ dataset\n",
    "    ├ imgs\n",
    "    │   ├ img01.png\n",
    "    │   ├ img02.png\n",
    "    │   ├ img03.png\n",
    "    │   ├ img04.png\n",
    "    │   ├ img05.png\n",
    "    │   └ ...\n",
    "    └ labels.csv\n",
    "```\n",
    "\n",
    "We would have a `imgs` folder which contains all the images, and outside it we would have a `labels.csv` file which contains all the labels:\n",
    "\n",
    "```python\n",
    "image,      label\n",
    "img01.png,  0\n",
    "img02.png,  1\n",
    "img03.png,  2\n",
    "img04.png,  1\n",
    "img05.png,  1\n",
    "...,        ...\n",
    "```\n",
    "\n",
    "Where for instance `0 = cat`, `1 = dog`, `2 = plane`, etc... We can setup a dataset in this way: first, import all the packages:"
   ]
  },
  {
   "cell_type": "code",
   "execution_count": 1,
   "metadata": {},
   "outputs": [],
   "source": [
    "import os\n",
    "import pandas as pd \n",
    "from torchvision.io import read_image\n",
    "from torch.utils.data import Dataset"
   ]
  },
  {
   "cell_type": "markdown",
   "metadata": {},
   "source": [
    "Now we can create the class of our dataset. The program will load the images only at runtime. If the PC tried to read a large dataset all at once (say, 10.000 images), then it would crash because of the RAM shortage. Depending on the batch size, the program will load only $x$ images at a time:"
   ]
  },
  {
   "cell_type": "code",
   "execution_count": 5,
   "metadata": {},
   "outputs": [],
   "source": [
    "class OurDataset(Dataset):\n",
    "    def __init__(self, labels_path: str, images_dir: str, transform = None) -> None:\n",
    "        \"\"\"\n",
    "        Creates a dataset given the path to the labels and the image directory\n",
    "\n",
    "        Parameters:\n",
    "            - `labels_path`: the path to the `csv` file containing the labels;\n",
    "            - `images_dir`: the path to the directory with the images;\n",
    "            - `transform`: states whether a transformation should be applied to the images or not.\n",
    "        \"\"\"\n",
    "        super().__init__()\n",
    "        self.images_dir = images_dir\n",
    "        self.transform = transform\n",
    "        self.labels = pd.read_csv(labels_path)\n",
    "\n",
    "    def __len__(self) -> int:\n",
    "        \"\"\"Returns the length of the dataset\n",
    "        \n",
    "        Returns:\n",
    "            - `length` (`int`): the length of the dataset\"\"\"\n",
    "        return len(self.labels)\n",
    "\n",
    "    def __getitem__(self, index: int):\n",
    "        \"\"\"Get the ith item in the dataset\n",
    "        \n",
    "        Parameters:\n",
    "            - `index`: the index of the image that must be retrieven.\n",
    "            \n",
    "        Returns:\n",
    "            - `image` (`img`): the image in the ith position in the dataset.\"\"\"\n",
    "        \n",
    "        # Get the images path\n",
    "        images_path = os.path.join(self.images_dir, self.labels.iloc[index, 0])\n",
    "        image = read_image(images_path) # Can also be done with OpenCV's function cv2.imread()\n",
    "        label = self.labels.iloc[index, 1]\n",
    "\n",
    "        # Apply transformations\n",
    "        if self.transform:\n",
    "            image = self.transform(image)\n",
    "\n",
    "        return (image, label)"
   ]
  }
 ],
 "metadata": {
  "kernelspec": {
   "display_name": "ailab",
   "language": "python",
   "name": "python3"
  },
  "language_info": {
   "codemirror_mode": {
    "name": "ipython",
    "version": 3
   },
   "file_extension": ".py",
   "mimetype": "text/x-python",
   "name": "python",
   "nbconvert_exporter": "python",
   "pygments_lexer": "ipython3",
   "version": "3.1.undefined"
  }
 },
 "nbformat": 4,
 "nbformat_minor": 2
}
