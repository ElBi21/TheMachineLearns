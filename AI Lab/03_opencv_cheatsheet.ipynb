{
 "cells": [
  {
   "cell_type": "markdown",
   "metadata": {},
   "source": [
    "<h1 align=\"center\"><b>AI Lab: Computer Vision and NLP</b></h1>\n",
    "<h3 align=\"center\">Lecture 04: <code>opencv</code> cheatsheet</h3>\n",
    "\n",
    "---"
   ]
  },
  {
   "cell_type": "markdown",
   "metadata": {},
   "source": [
    "`opencv` is an important framework for image manipulation. It has a great interaction with other AI and ML frameworks such as `pytorch`. We begin by importing it and by loading an image with the `cv2.imread()` function:\n",
    "> ```Python\n",
    "> img_var = cv2.imread(\"path/to/image.png\", n)\n",
    "> ```\n",
    "> where:\n",
    ">  - `img_var` is the name of the variable which stores the image;\n",
    ">  - `\"path/to/image.png\"` is the path to the image (can be any format);\n",
    ">  - `n` is the number of channels that we want to load:\n",
    ">    - `0` will load a gray-scale image;\n",
    ">    - `-1` will load an alpha channel on `.png` images."
   ]
  },
  {
   "cell_type": "code",
   "execution_count": null,
   "metadata": {},
   "outputs": [],
   "source": [
    "import cv2\n",
    "\n",
    "image = cv2.imread(\"imgs/img02.jpg\")"
   ]
  },
  {
   "cell_type": "markdown",
   "metadata": {},
   "source": [
    "We can now examine some of the basic functions of `opencv`:"
   ]
  },
  {
   "cell_type": "code",
   "execution_count": 3,
   "metadata": {},
   "outputs": [
    {
     "name": "stdout",
     "output_type": "stream",
     "text": [
      "Width: 291px\n",
      "Height: 173px\n",
      "Channels: 3\n"
     ]
    }
   ],
   "source": [
    "print(f\"Width: {image.shape[1]}px\")\n",
    "print(f\"Height: {image.shape[0]}px\")\n",
    "print(f\"Channels: {image.shape[2]}\")"
   ]
  },
  {
   "cell_type": "markdown",
   "metadata": {},
   "source": [
    "In order to preview an image, we can use the `cv2.imshow()` function:\n",
    "\n",
    "> ```Python\n",
    "> cv2.imshow(\"Window Name\", image)\n",
    "> ```\n",
    "> where:\n",
    ">  - `\"Window Name\"` is the name that we want to give to the window;\n",
    ">  - `image` is the loaded image"
   ]
  },
  {
   "cell_type": "code",
   "execution_count": 6,
   "metadata": {},
   "outputs": [
    {
     "ename": "",
     "evalue": "",
     "output_type": "error",
     "traceback": [
      "\u001b[1;31mSi è verificato un arresto anomalo del Kernel durante l'esecuzione del codice nella cella attiva o in una cella precedente. \n",
      "\u001b[1;31mEsaminare il codice nelle celle per identificare una possibile causa dell'errore. \n",
      "\u001b[1;31mPer altre informazioni, fare clic<a href='https://aka.ms/vscodeJupyterKernelCrash'>qui</a>. \n",
      "\u001b[1;31mPer ulteriori dettagli, visualizzare Jupyter <a href='command:jupyter.viewOutput'>log</a>."
     ]
    }
   ],
   "source": [
    "cv2.imshow('Image', image)\n",
    "cv2.waitKey(0)\n",
    "cv2.destroyAllWindows()"
   ]
  }
 ],
 "metadata": {
  "kernelspec": {
   "display_name": "Python 3",
   "language": "python",
   "name": "python3"
  },
  "language_info": {
   "codemirror_mode": {
    "name": "ipython",
    "version": 3
   },
   "file_extension": ".py",
   "mimetype": "text/x-python",
   "name": "python",
   "nbconvert_exporter": "python",
   "pygments_lexer": "ipython3",
   "version": "3.12.2"
  }
 },
 "nbformat": 4,
 "nbformat_minor": 2
}
