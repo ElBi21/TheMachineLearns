{
 "cells": [
  {
   "cell_type": "markdown",
   "metadata": {},
   "source": [
    "<h1 align=\"center\"><b>AI Lab: Computer Vision and NLP</b></h1>\n",
    "<h3 align=\"center\">Lecture 04: <code>opencv</code> cheatsheet</h3>\n",
    "\n",
    "---"
   ]
  },
  {
   "cell_type": "markdown",
   "metadata": {},
   "source": [
    "`opencv` is an important framework for image manipulation. It has a great interaction with other AI and ML frameworks such as `pytorch`. We begin by importing it and by loading an image with the `cv2.imread()` function:\n",
    "> ```Python\n",
    "> img_var = cv2.imread(\"path/to/image.png\", n)\n",
    "> ```\n",
    "> where:\n",
    ">  - `img_var` is the name of the variable which stores the image;\n",
    ">  - `\"path/to/image.png\"` is the path to the image (can be any format);\n",
    ">  - `n` is the number of channels that we want to load:\n",
    ">    - `0` will load a gray-scale image;\n",
    ">    - `-1` will load an alpha channel on `.png` images."
   ]
  },
  {
   "cell_type": "code",
   "execution_count": 1,
   "metadata": {},
   "outputs": [],
   "source": [
    "import cv2\n",
    "\n",
    "image = cv2.imread(\"imgs/img02.jpg\")"
   ]
  },
  {
   "cell_type": "markdown",
   "metadata": {},
   "source": [
    "We can now examine some of the basic functions of `opencv`:"
   ]
  },
  {
   "cell_type": "code",
   "execution_count": 3,
   "metadata": {},
   "outputs": [
    {
     "name": "stdout",
     "output_type": "stream",
     "text": [
      "Width: 291px\n",
      "Height: 173px\n",
      "Channels: 3\n"
     ]
    }
   ],
   "source": [
    "print(f\"Width: {image.shape[1]}px\")\n",
    "print(f\"Height: {image.shape[0]}px\")\n",
    "print(f\"Channels: {image.shape[2]}\")"
   ]
  },
  {
   "cell_type": "markdown",
   "metadata": {},
   "source": [
    "In order to preview an image, we can use the `cv2.imshow()` function:\n",
    "\n",
    "> ```Python\n",
    "> cv2.imshow(\"Window Name\", image)\n",
    "> ```\n",
    "> where:\n",
    ">  - `\"Window Name\"` is the name that we want to give to the window;\n",
    ">  - `image` is the loaded image"
   ]
  },
  {
   "cell_type": "code",
   "execution_count": 12,
   "metadata": {},
   "outputs": [],
   "source": [
    "cv2.imshow('Image', image)\n",
    "cv2.waitKey(0)\n",
    "cv2.destroyAllWindows()"
   ]
  },
  {
   "cell_type": "markdown",
   "metadata": {},
   "source": [
    "We can also store images on a disk with the `cv2.imwrite()` function:\n",
    "> ```Python\n",
    "> cv2.imwrite(\"path/to/disk\", image)\n",
    "> ```\n",
    "> where:\n",
    ">  - `\"path/to/disk\"` is where we store the image: must end with the name of the image;\n",
    ">  - `image` is the variable which stores the image."
   ]
  },
  {
   "cell_type": "code",
   "execution_count": 5,
   "metadata": {},
   "outputs": [
    {
     "data": {
      "text/plain": [
       "True"
      ]
     },
     "execution_count": 5,
     "metadata": {},
     "output_type": "execute_result"
    }
   ],
   "source": [
    "cv2.imwrite(\"imgs/rewritten_002.jpg\", image)"
   ]
  },
  {
   "cell_type": "markdown",
   "metadata": {},
   "source": [
    "In order to access to the values of the image, we use the unpacking notation in order to store in a tuple of variables the values of a pixel of the image:"
   ]
  },
  {
   "cell_type": "code",
   "execution_count": 9,
   "metadata": {},
   "outputs": [
    {
     "name": "stdout",
     "output_type": "stream",
     "text": [
      "45 48 62\n"
     ]
    }
   ],
   "source": [
    "(blue, green, red) = image[0, 50]\n",
    "print(blue, green, red)"
   ]
  },
  {
   "cell_type": "markdown",
   "metadata": {},
   "source": [
    "We can also change the values of a pixel, with the same notation:"
   ]
  },
  {
   "cell_type": "code",
   "execution_count": 2,
   "metadata": {},
   "outputs": [],
   "source": [
    "image[0, 0] = (0, 255, 0)"
   ]
  },
  {
   "cell_type": "markdown",
   "metadata": {},
   "source": [
    "It's also possible to edit pixels of the image:"
   ]
  },
  {
   "cell_type": "code",
   "execution_count": 6,
   "metadata": {},
   "outputs": [
    {
     "data": {
      "text/plain": [
       "True"
      ]
     },
     "execution_count": 6,
     "metadata": {},
     "output_type": "execute_result"
    }
   ],
   "source": [
    "image[0:50, 0:50] = (0, 255, 0)\n",
    "cv2.imwrite(\"imgs/colored_002.png\", image)"
   ]
  },
  {
   "cell_type": "markdown",
   "metadata": {},
   "source": [
    "---\n",
    "\n",
    "In order to manipulate images, we can also use `numpy`. Here we create a blank array with `numpy` and then store it within an image:"
   ]
  },
  {
   "cell_type": "code",
   "execution_count": 10,
   "metadata": {},
   "outputs": [
    {
     "data": {
      "text/plain": [
       "True"
      ]
     },
     "execution_count": 10,
     "metadata": {},
     "output_type": "execute_result"
    }
   ],
   "source": [
    "import numpy as np\n",
    "\n",
    "blank_array = np.zeros((512, 512, 3), dtype=\"uint8\")\n"
   ]
  },
  {
   "cell_type": "markdown",
   "metadata": {},
   "source": [
    "We can create various shapes. Here is a list of the functions needed to create various shapes on images:"
   ]
  },
  {
   "cell_type": "code",
   "execution_count": 13,
   "metadata": {},
   "outputs": [
    {
     "data": {
      "text/plain": [
       "True"
      ]
     },
     "execution_count": 13,
     "metadata": {},
     "output_type": "execute_result"
    }
   ],
   "source": [
    "blank_array = np.zeros((512, 512, 3), dtype=\"uint8\")\n",
    "a_color = (63, 53, 142)\n",
    "\n",
    "cv2.line(blank_array, (16, 16), (256, 256), a_color, 3)\n",
    "cv2.imwrite(\"imgs/03_shapes/line.png\", blank_array)"
   ]
  },
  {
   "cell_type": "code",
   "execution_count": 18,
   "metadata": {},
   "outputs": [
    {
     "data": {
      "text/plain": [
       "True"
      ]
     },
     "execution_count": 18,
     "metadata": {},
     "output_type": "execute_result"
    }
   ],
   "source": [
    "blank_array = np.zeros((512, 512, 3), dtype=\"uint8\")\n",
    "a_color = (1, 219, 182)\n",
    "\n",
    "cv2.rectangle(blank_array, (16, 16), (256, 256), a_color, -1)\n",
    "cv2.imwrite(\"imgs/03_shapes/rectangle.png\", blank_array)"
   ]
  },
  {
   "cell_type": "code",
   "execution_count": 21,
   "metadata": {},
   "outputs": [
    {
     "data": {
      "text/plain": [
       "True"
      ]
     },
     "execution_count": 21,
     "metadata": {},
     "output_type": "execute_result"
    }
   ],
   "source": [
    "blank_array = np.zeros((512, 512, 3), dtype=\"uint8\")\n",
    "a_color = (181, 0, 176)\n",
    "\n",
    "# Here we use // 2 because we need integers, not floating points. If we used only /, then OpenCV will complain\n",
    "(center_x, center_y) = (blank_array.shape[0]//2, blank_array.shape[1]//2)\n",
    "cv2.circle(blank_array, (center_x, center_y), 20, a_color, -1)\n",
    "cv2.imwrite(\"imgs/03_shapes/circle.png\", blank_array)"
   ]
  },
  {
   "cell_type": "code",
   "execution_count": null,
   "metadata": {},
   "outputs": [],
   "source": []
  }
 ],
 "metadata": {
  "kernelspec": {
   "display_name": "Python 3",
   "language": "python",
   "name": "python3"
  },
  "language_info": {
   "codemirror_mode": {
    "name": "ipython",
    "version": 3
   },
   "file_extension": ".py",
   "mimetype": "text/x-python",
   "name": "python",
   "nbconvert_exporter": "python",
   "pygments_lexer": "ipython3",
   "version": "3.12.2"
  }
 },
 "nbformat": 4,
 "nbformat_minor": 2
}
