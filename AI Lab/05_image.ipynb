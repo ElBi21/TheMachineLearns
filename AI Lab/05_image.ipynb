{
 "cells": [
  {
   "cell_type": "code",
   "execution_count": 2,
   "id": "e1c9344c",
   "metadata": {},
   "outputs": [],
   "source": [
    "import cv2\n",
    "import numpy as np"
   ]
  },
  {
   "cell_type": "code",
   "execution_count": 3,
   "id": "c2739642-e363-44b7-beca-51611bd06519",
   "metadata": {},
   "outputs": [],
   "source": [
    "image = cv2.imread(\"imgs/04_imgs/gerry.png\")\n",
    "\n",
    "#cv2.imshow(\"Original Gerry\", image)\n",
    "#cv2.waitKey(0)\n",
    "#cv2.destroyAllWindows()"
   ]
  },
  {
   "cell_type": "markdown",
   "id": "735263d3-0782-4940-b6f8-ea32d47e688b",
   "metadata": {},
   "source": [
    "Coordinates of the corners of Gerry:\n",
    " - tl: 28, 227\n",
    " - bl: 131, 937\n",
    " - br: 730, 860\n",
    " - tr: 572, 149"
   ]
  },
  {
   "cell_type": "code",
   "execution_count": 9,
   "id": "bf553c1a-73a7-4b74-8e62-d487a644482c",
   "metadata": {},
   "outputs": [],
   "source": [
    "src_points = np.array([\n",
    "    [28, 227],\n",
    "    [131, 987],\n",
    "    [730, 860],\n",
    "    [572, 149]\n",
    "], np.float32)"
   ]
  },
  {
   "cell_type": "markdown",
   "id": "52170696",
   "metadata": {},
   "source": [
    "Suppose that our final image will have a size of $600 \\times 800$. We want to map the top left corner of our destination image to the top left corner of the image of Gerry, and so on for all the points"
   ]
  },
  {
   "cell_type": "code",
   "execution_count": 10,
   "id": "5d9af03a",
   "metadata": {},
   "outputs": [],
   "source": [
    "dest_points = np.array(\n",
    "    [\n",
    "        [0, 0],\n",
    "        [0, 800],\n",
    "        [600, 800],\n",
    "        [600, 0]\n",
    "    ], np.float32\n",
    ")\n",
    "\n",
    "# Get the transformation matrix\n",
    "trans_matrix = cv2.getPerspectiveTransform(src_points, dest_points)"
   ]
  },
  {
   "cell_type": "markdown",
   "id": "2278d1d2",
   "metadata": {},
   "source": [
    "We now compute the output image"
   ]
  },
  {
   "cell_type": "code",
   "execution_count": 11,
   "id": "33dbc84d",
   "metadata": {},
   "outputs": [],
   "source": [
    "out_img = cv2.warpPerspective(image, trans_matrix, (600, 800))"
   ]
  },
  {
   "cell_type": "code",
   "execution_count": 12,
   "id": "160bda85",
   "metadata": {},
   "outputs": [
    {
     "data": {
      "text/plain": [
       "True"
      ]
     },
     "execution_count": 12,
     "metadata": {},
     "output_type": "execute_result"
    }
   ],
   "source": [
    "cv2.imwrite(\"imgs/04_imgs/gerry_transf.png\", out_img)"
   ]
  },
  {
   "cell_type": "markdown",
   "id": "715e77cd",
   "metadata": {},
   "source": [
    "We can also use a GUI tool in order to select some points on the screen:"
   ]
  },
  {
   "cell_type": "code",
   "execution_count": 7,
   "id": "e13f4238",
   "metadata": {},
   "outputs": [
    {
     "ename": "NameError",
     "evalue": "name 'onClick' is not defined",
     "output_type": "error",
     "traceback": [
      "\u001b[0;31m---------------------------------------------------------------------------\u001b[0m",
      "\u001b[0;31mNameError\u001b[0m                                 Traceback (most recent call last)",
      "Cell \u001b[0;32mIn[7], line 19\u001b[0m\n\u001b[1;32m     16\u001b[0m cv2\u001b[38;5;241m.\u001b[39mnamedWindow(\u001b[38;5;124m\"\u001b[39m\u001b[38;5;124mImage\u001b[39m\u001b[38;5;124m\"\u001b[39m)\n\u001b[1;32m     18\u001b[0m \u001b[38;5;66;03m# We need to create a callback function, aka a function that gets called on certain, predefined actions.\u001b[39;00m\n\u001b[0;32m---> 19\u001b[0m cv2\u001b[38;5;241m.\u001b[39msetMouseCallback(\u001b[38;5;124m\"\u001b[39m\u001b[38;5;124mImage\u001b[39m\u001b[38;5;124m\"\u001b[39m, onClick)\n",
      "\u001b[0;31mNameError\u001b[0m: name 'onClick' is not defined"
     ]
    }
   ],
   "source": [
    "# Define the callback function which will be used later on:\n",
    "def onClick(event, x, y, flags, params):\n",
    "    if event == cv2.EVENT_LBUTTONDOWN: \n",
    "        if len(src_points) < 4:\n",
    "            src_points.append([x, y])\n",
    "            cv2.circle(image_copy, (x, y), 10, (0, 0, 255), -1)\n",
    "            cv2.imshow(\"Image\", image_copy)\n",
    "\n",
    "# Create a copy of the image:\n",
    "image_copy = image.copy()\n",
    "\n",
    "# Define the starting point\n",
    "src_points = []\n",
    "\n",
    "# Define the destination points\n",
    "dest_points = np.array([\n",
    "    [0, 0],\n",
    "    [0, 800],\n",
    "    [600, 800],\n",
    "    [600, 0]\n",
    "], np.float32)\n",
    "\n",
    "# Now we have to create a window on which we can use the cursor in order to click:\n",
    "cv2.namedWindow(\"Image\")\n",
    "\n",
    "# We need to create a callback function, aka a function that gets called on certain, predefined actions.\n",
    "cv2.setMouseCallback(\"Image\", onClick)\n",
    "\n",
    "# Now we can proceed after the callback: we show now the image:\n",
    "cv2.imshow(\"Image\", image_copy)\n",
    "cv2.waitKey(0)\n",
    "cv2.destroyAllWindows()\n",
    "\n",
    "# Get the transformation matrix\n",
    "trans_matrix = cv2.getPerspectiveTransform(src_points, dest_points)\n",
    "\n",
    "out_img = cv2.warpPerspective(image, trans_matrix, (600, 800))\n",
    "\n",
    "cv2.imwrite(\"imgs/04_imgs/gerry_transf.png\", out_img)"
   ]
  },
  {
   "cell_type": "markdown",
   "id": "40c6c164",
   "metadata": {},
   "source": [
    "Now we have to create a window on which we can use the cursor in order to click:"
   ]
  },
  {
   "cell_type": "code",
   "execution_count": null,
   "id": "ff742d32",
   "metadata": {},
   "outputs": [],
   "source": [
    "cv2.namedWindow(\"Image\")\n",
    "\n",
    "# We need to create a callback function, aka a function that gets called on certain, predefined actions.\n",
    "cv2.setMouseCallback(\"Image\", onClick)"
   ]
  },
  {
   "cell_type": "code",
   "execution_count": null,
   "id": "05f1c162",
   "metadata": {},
   "outputs": [],
   "source": [
    "ims = cv2.resize(image, None, fx=0.5, fy=0.5)"
   ]
  }
 ],
 "metadata": {
  "kernelspec": {
   "display_name": "Python 3 (ipykernel)",
   "language": "python",
   "name": "python3"
  },
  "language_info": {
   "codemirror_mode": {
    "name": "ipython",
    "version": 3
   },
   "file_extension": ".py",
   "mimetype": "text/x-python",
   "name": "python",
   "nbconvert_exporter": "python",
   "pygments_lexer": "ipython3",
   "version": "3.12.2"
  }
 },
 "nbformat": 4,
 "nbformat_minor": 5
}
