{
 "cells": [
  {
   "cell_type": "code",
   "execution_count": 2,
   "id": "e1c9344c",
   "metadata": {},
   "outputs": [],
   "source": [
    "import cv2\n",
    "import numpy as np"
   ]
  },
  {
   "cell_type": "code",
   "execution_count": 6,
   "id": "c2739642-e363-44b7-beca-51611bd06519",
   "metadata": {},
   "outputs": [],
   "source": [
    "image = cv2.imread(\"imgs/04_imgs/gerry.png\")\n",
    "\n",
    "#cv2.imshow(\"Original Gerry\", image)\n",
    "#cv2.waitKey(0)\n",
    "#cv2.destroyAllWindows()"
   ]
  },
  {
   "cell_type": "markdown",
   "id": "735263d3-0782-4940-b6f8-ea32d47e688b",
   "metadata": {},
   "source": [
    "Coordinates of the corners of Gerry:\n",
    " - tl: 28, 227\n",
    " - bl: 131, 937\n",
    " - br: 730, 860\n",
    " - tr: 572, 149"
   ]
  },
  {
   "cell_type": "code",
   "execution_count": 9,
   "id": "bf553c1a-73a7-4b74-8e62-d487a644482c",
   "metadata": {},
   "outputs": [],
   "source": [
    "src_points = np.array([\n",
    "    [28, 227],\n",
    "    [131, 987],\n",
    "    [730, 860],\n",
    "    [572, 149]\n",
    "], np.float32)"
   ]
  },
  {
   "cell_type": "markdown",
   "id": "52170696",
   "metadata": {},
   "source": [
    "Suppose that our final image will have a size of $600 \\times 800$. We want to map the top left corner of our destination image to the top left corner of the image of Gerry, and so on for all the points"
   ]
  },
  {
   "cell_type": "code",
   "execution_count": 10,
   "id": "5d9af03a",
   "metadata": {},
   "outputs": [],
   "source": [
    "dest_points = np.array(\n",
    "    [\n",
    "        [0, 0],\n",
    "        [0, 800],\n",
    "        [600, 800],\n",
    "        [600, 0]\n",
    "    ], np.float32\n",
    ")\n",
    "\n",
    "# Get the transformation matrix\n",
    "trans_matrix = cv2.getPerspectiveTransform(src_points, dest_points)"
   ]
  },
  {
   "cell_type": "markdown",
   "id": "2278d1d2",
   "metadata": {},
   "source": [
    "We now compute the output image"
   ]
  },
  {
   "cell_type": "code",
   "execution_count": 11,
   "id": "33dbc84d",
   "metadata": {},
   "outputs": [],
   "source": [
    "out_img = cv2.warpPerspective(image, trans_matrix, (600, 800))"
   ]
  },
  {
   "cell_type": "code",
   "execution_count": 12,
   "id": "160bda85",
   "metadata": {},
   "outputs": [
    {
     "data": {
      "text/plain": [
       "True"
      ]
     },
     "execution_count": 12,
     "metadata": {},
     "output_type": "execute_result"
    }
   ],
   "source": [
    "cv2.imwrite(\"imgs/04_imgs/gerry_transf.png\", out_img)"
   ]
  },
  {
   "cell_type": "code",
   "execution_count": null,
   "id": "05f1c162",
   "metadata": {},
   "outputs": [],
   "source": [
    "ims = cv2.resize(image, None, fx=0.5, fy=0.5)"
   ]
  }
 ],
 "metadata": {
  "kernelspec": {
   "display_name": "Python 3 (ipykernel)",
   "language": "python",
   "name": "python3"
  },
  "language_info": {
   "codemirror_mode": {
    "name": "ipython",
    "version": 3
   },
   "file_extension": ".py",
   "mimetype": "text/x-python",
   "name": "python",
   "nbconvert_exporter": "python",
   "pygments_lexer": "ipython3",
   "version": "3.12.2"
  }
 },
 "nbformat": 4,
 "nbformat_minor": 5
}
