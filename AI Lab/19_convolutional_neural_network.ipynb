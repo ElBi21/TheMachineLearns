{
 "cells": [
  {
   "cell_type": "markdown",
   "metadata": {},
   "source": [
    "<h1 align=\"center\"><b>AI Lab: Computer Vision and NLP</b></h1>\n",
    "<h3 align=\"center\">Lesson 19: Convolutional Neural Networks</h3>\n",
    "\n",
    "---"
   ]
  },
  {
   "cell_type": "markdown",
   "metadata": {},
   "source": [
    "**C**onvolutional **N**eural **N**etworks (**CNN**s) are a specific type of neural networks that are composed by convolution layers and pooling layers. At the end of the CNN we still have a MLP. The purpose of the CNN is to extract features from the images (in fact, CNNs are usually used with images)."
   ]
  }
 ],
 "metadata": {
  "language_info": {
   "name": "python"
  }
 },
 "nbformat": 4,
 "nbformat_minor": 2
}
