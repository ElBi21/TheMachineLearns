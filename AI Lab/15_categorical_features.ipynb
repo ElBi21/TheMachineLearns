{
 "cells": [
  {
   "cell_type": "markdown",
   "metadata": {},
   "source": [
    "<h1 align=\"center\"><b>AI Lab: Computer Vision and NLP</b></h1>\n",
    "<h3 align=\"center\">Lesson 14: Categorical Features</h3>\n",
    "\n",
    "---"
   ]
  },
  {
   "cell_type": "markdown",
   "metadata": {},
   "source": [
    "Let's create some fake categorical data, such a set of houses with their `price`, the number of `rooms` and the `neighbourhood` where they are:"
   ]
  },
  {
   "cell_type": "code",
   "execution_count": 1,
   "metadata": {},
   "outputs": [],
   "source": [
    "data = [\n",
    "    {\n",
    "        \"price\": 834648,\n",
    "        \"rooms\": 4,\n",
    "        \"neighbourhood\": \"Prati\",\n",
    "    },\n",
    "    {\n",
    "        \"price\": 293487,\n",
    "        \"rooms\": 3,\n",
    "        \"neighbourhood\": \"Tor Bella Monaca\",\n",
    "    },\n",
    "    {\n",
    "        \"price\": 598403,\n",
    "        \"rooms\": 4,\n",
    "        \"neighbourhood\": \"Cinecittà\",\n",
    "    }\n",
    "]"
   ]
  },
  {
   "cell_type": "markdown",
   "metadata": {},
   "source": [
    "How could we represent in numbers the `neighbourhood` category? We could try to do a simple thing like the following:"
   ]
  },
  {
   "cell_type": "code",
   "execution_count": 2,
   "metadata": {},
   "outputs": [],
   "source": [
    "neighbourhoods = {\n",
    "    \"Prati\": 1,\n",
    "    \"Tor Bella Monaca\": 2,\n",
    "    \"Cinecittà\": 3\n",
    "}"
   ]
  },
  {
   "cell_type": "markdown",
   "metadata": {},
   "source": [
    "Now, this approach would be good with an Excel file, but for Machine Learning it's not good. This because the model might infere that for instance `Prati` would be larger than `Tor Bella Monaca`. A better way to encode such neighbourhoods is to use the **one-hot encoding**. In order to do that, we must add a column for each possible value:"
   ]
  },
  {
   "cell_type": "code",
   "execution_count": 4,
   "metadata": {},
   "outputs": [],
   "source": [
    "data_one_hot = [\n",
    "    {\n",
    "        \"price\": 834648,\n",
    "        \"rooms\": 4,\n",
    "        \"Prati\": 1,\n",
    "        \"Tor Bella Monaca\": 0,\n",
    "        \"Cinecittà\": 0\n",
    "    },\n",
    "    {\n",
    "        \"price\": 293487,\n",
    "        \"rooms\": 3,\n",
    "        \"Prati\": 0,\n",
    "        \"Tor Bella Monaca\": 1,\n",
    "        \"Cinecittà\": 0\n",
    "    },\n",
    "    {\n",
    "        \"price\": 598403,\n",
    "        \"rooms\": 4,\n",
    "        \"Prati\": 0,\n",
    "        \"Tor Bella Monaca\": 0,\n",
    "        \"Cinecittà\": 1\n",
    "    }\n",
    "]"
   ]
  },
  {
   "cell_type": "markdown",
   "metadata": {},
   "source": [
    "Notice how the dataset becomes larger and larger as the number of values that the category might have increases. We can use though the `DictVectorizer` function from `scikit-learn` in order to convert data into a one-hot encoding representation"
   ]
  },
  {
   "cell_type": "code",
   "execution_count": 5,
   "metadata": {},
   "outputs": [],
   "source": [
    "from sklearn.feature_extraction import DictVectorizer"
   ]
  },
  {
   "cell_type": "markdown",
   "metadata": {},
   "source": [
    "We can now use the function, which has the following syntax:\n",
    "> ```python\n",
    "> DictVectorizer(sparse=bool, dtype=datatype)\n",
    "> ```\n",
    "> where:\n",
    ">  - `sparse` denotes if most of the data should be 0;\n",
    ">  - `dtype` is the datatype of the vector."
   ]
  },
  {
   "cell_type": "code",
   "execution_count": 7,
   "metadata": {},
   "outputs": [
    {
     "name": "stdout",
     "output_type": "stream",
     "text": [
      "[[     0      1      0 834648      4]\n",
      " [     0      0      1 293487      3]\n",
      " [     1      0      0 598403      4]]\n"
     ]
    }
   ],
   "source": [
    "vec = DictVectorizer(sparse=False, dtype=int)\n",
    "result = vec.fit_transform(data)\n",
    "\n",
    "# Let's print the result\n",
    "print(result)"
   ]
  },
  {
   "cell_type": "markdown",
   "metadata": {},
   "source": [
    "The result of the data is in the following form:\n",
    "\n",
    "|Cinecittà|Prati|Tor Bella Monaca|Price|Rooms|\n",
    "|---|---|---|---|---|\n",
    "| ... | ... | ... | ... | ... |\n",
    "\n",
    "We can also print the name of the features with `features_names_`:"
   ]
  },
  {
   "cell_type": "code",
   "execution_count": 8,
   "metadata": {},
   "outputs": [
    {
     "name": "stdout",
     "output_type": "stream",
     "text": [
      "['neighbourhood=Cinecittà', 'neighbourhood=Prati', 'neighbourhood=Tor Bella Monaca', 'price', 'rooms']\n"
     ]
    }
   ],
   "source": [
    "names = vec.feature_names_\n",
    "print(names)"
   ]
  }
 ],
 "metadata": {
  "kernelspec": {
   "display_name": "ailab",
   "language": "python",
   "name": "python3"
  },
  "language_info": {
   "codemirror_mode": {
    "name": "ipython",
    "version": 3
   },
   "file_extension": ".py",
   "mimetype": "text/x-python",
   "name": "python",
   "nbconvert_exporter": "python",
   "pygments_lexer": "ipython3",
   "version": "3.12.2"
  }
 },
 "nbformat": 4,
 "nbformat_minor": 2
}
