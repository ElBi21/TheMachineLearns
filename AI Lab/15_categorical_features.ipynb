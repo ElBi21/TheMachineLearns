{
 "cells": [
  {
   "cell_type": "markdown",
   "metadata": {},
   "source": [
    "<h1 align=\"center\"><b>AI Lab: Computer Vision and NLP</b></h1>\n",
    "<h3 align=\"center\">Lessons 14 - 15: Categorical Features</h3>\n",
    "\n",
    "---"
   ]
  },
  {
   "cell_type": "markdown",
   "metadata": {},
   "source": [
    "Let's create some fake categorical data, such a set of houses with their `price`, the number of `rooms` and the `neighbourhood` where they are:"
   ]
  },
  {
   "cell_type": "code",
   "execution_count": 1,
   "metadata": {},
   "outputs": [],
   "source": [
    "data = [\n",
    "    {\n",
    "        \"price\": 834648,\n",
    "        \"rooms\": 4,\n",
    "        \"neighbourhood\": \"Prati\",\n",
    "    },\n",
    "    {\n",
    "        \"price\": 293487,\n",
    "        \"rooms\": 3,\n",
    "        \"neighbourhood\": \"Tor Bella Monaca\",\n",
    "    },\n",
    "    {\n",
    "        \"price\": 598403,\n",
    "        \"rooms\": 4,\n",
    "        \"neighbourhood\": \"Cinecittà\",\n",
    "    }\n",
    "]"
   ]
  },
  {
   "cell_type": "markdown",
   "metadata": {},
   "source": [
    "How could we represent in numbers the `neighbourhood` category? We could try to do a simple thing like the following:"
   ]
  },
  {
   "cell_type": "code",
   "execution_count": 2,
   "metadata": {},
   "outputs": [],
   "source": [
    "neighbourhoods = {\n",
    "    \"Prati\": 1,\n",
    "    \"Tor Bella Monaca\": 2,\n",
    "    \"Cinecittà\": 3\n",
    "}"
   ]
  },
  {
   "cell_type": "markdown",
   "metadata": {},
   "source": [
    "Now, this approach would be good with an Excel file, but for Machine Learning it's not good. This because the model might infere that for instance `Prati` would be larger than `Tor Bella Monaca`. A better way to encode such neighbourhoods is to use the **one-hot encoding**. In order to do that, we must add a column for each possible value:"
   ]
  },
  {
   "cell_type": "code",
   "execution_count": 3,
   "metadata": {},
   "outputs": [],
   "source": [
    "data_one_hot = [\n",
    "    {\n",
    "        \"price\": 834648,\n",
    "        \"rooms\": 4,\n",
    "        \"Prati\": 1,\n",
    "        \"Tor Bella Monaca\": 0,\n",
    "        \"Cinecittà\": 0\n",
    "    },\n",
    "    {\n",
    "        \"price\": 293487,\n",
    "        \"rooms\": 3,\n",
    "        \"Prati\": 0,\n",
    "        \"Tor Bella Monaca\": 1,\n",
    "        \"Cinecittà\": 0\n",
    "    },\n",
    "    {\n",
    "        \"price\": 598403,\n",
    "        \"rooms\": 4,\n",
    "        \"Prati\": 0,\n",
    "        \"Tor Bella Monaca\": 0,\n",
    "        \"Cinecittà\": 1\n",
    "    }\n",
    "]"
   ]
  },
  {
   "cell_type": "markdown",
   "metadata": {},
   "source": [
    "Notice how the dataset becomes larger and larger as the number of values that the category might have increases. We can use though the `DictVectorizer` function from `scikit-learn` in order to convert data into a one-hot encoding representation"
   ]
  },
  {
   "cell_type": "code",
   "execution_count": 4,
   "metadata": {},
   "outputs": [],
   "source": [
    "from sklearn.feature_extraction import DictVectorizer"
   ]
  },
  {
   "cell_type": "markdown",
   "metadata": {},
   "source": [
    "We can now use the function, which has the following syntax:\n",
    "> ```python\n",
    "> DictVectorizer(sparse=bool, dtype=datatype)\n",
    "> ```\n",
    "> where:\n",
    ">  - `sparse` denotes if most of the data should be 0;\n",
    ">  - `dtype` is the datatype of the vector."
   ]
  },
  {
   "cell_type": "code",
   "execution_count": 5,
   "metadata": {},
   "outputs": [
    {
     "name": "stdout",
     "output_type": "stream",
     "text": [
      "[[     0      1      0 834648      4]\n",
      " [     0      0      1 293487      3]\n",
      " [     1      0      0 598403      4]]\n"
     ]
    }
   ],
   "source": [
    "vec = DictVectorizer(sparse=False, dtype=int)\n",
    "result = vec.fit_transform(data)\n",
    "\n",
    "# Let's print the result\n",
    "print(result)"
   ]
  },
  {
   "cell_type": "markdown",
   "metadata": {},
   "source": [
    "The result of the data is in the following form:\n",
    "\n",
    "|Cinecittà|Prati|Tor Bella Monaca|Price|Rooms|\n",
    "|---|---|---|---|---|\n",
    "| ... | ... | ... | ... | ... |\n",
    "\n",
    "We can also print the name of the features with `features_names_`:"
   ]
  },
  {
   "cell_type": "code",
   "execution_count": 9,
   "metadata": {},
   "outputs": [
    {
     "name": "stdout",
     "output_type": "stream",
     "text": [
      "['neighbourhood=Cinecittà', 'neighbourhood=Prati', 'neighbourhood=Tor Bella Monaca', 'price', 'rooms']\n"
     ]
    }
   ],
   "source": [
    "names = vec.feature_names_\n",
    "print(names)"
   ]
  },
  {
   "cell_type": "markdown",
   "metadata": {},
   "source": [
    "Let's now create a sample dataset that we can use. We'll also use the `pandas` package, which is very useful when we have to deal with tables:"
   ]
  },
  {
   "cell_type": "code",
   "execution_count": 14,
   "metadata": {},
   "outputs": [],
   "source": [
    "import pandas as pd\n",
    "from sklearn.feature_extraction.text import CountVectorizer, TfidfVectorizer\n",
    "\n",
    "data = [\n",
    "    \"trying to catch\",\n",
    "    \"catch the devil\",\n",
    "    \"the devil is trying\"\n",
    "]\n",
    "\n",
    "vec = CountVectorizer()"
   ]
  },
  {
   "cell_type": "markdown",
   "metadata": {},
   "source": [
    "Now, we can transform our data into a vector. We'll then transform the result into a `pandas` table:"
   ]
  },
  {
   "cell_type": "code",
   "execution_count": 15,
   "metadata": {},
   "outputs": [
    {
     "name": "stdout",
     "output_type": "stream",
     "text": [
      "   catch  devil  is  the  to  trying\n",
      "0      1      0   0    0   1       1\n",
      "1      1      1   0    1   0       0\n",
      "2      0      1   1    1   0       1\n"
     ]
    }
   ],
   "source": [
    "X = vec.fit_transform(data)\n",
    "tdata = pd.DataFrame(X.toarray(), columns=vec.get_feature_names_out())\n",
    "\n",
    "print(tdata)"
   ]
  },
  {
   "cell_type": "markdown",
   "metadata": {},
   "source": [
    "The table can be interpreted in the following way: each word appears as many times as there are `1`s in the corresponding column. So in this case, it means that we have the word `catch` appears two times in the whole dataset, the word `is` appears only once, etc... The less a word appears in the table, the more **important** it is.\n",
    "\n",
    "There is another way to represent data, and such approach is called `TF-IDF` (**T**erm **F**requency - **I**nverse **D**ocument **F**requency). We can try to do the same steps but with the new vectorization approach:"
   ]
  },
  {
   "cell_type": "code",
   "execution_count": 17,
   "metadata": {},
   "outputs": [
    {
     "name": "stdout",
     "output_type": "stream",
     "text": [
      "      catch     devil        is       the        to    trying\n",
      "0  0.517856  0.000000  0.000000  0.000000  0.680919  0.517856\n",
      "1  0.577350  0.577350  0.000000  0.577350  0.000000  0.000000\n",
      "2  0.000000  0.459854  0.604652  0.459854  0.000000  0.459854\n"
     ]
    }
   ],
   "source": [
    "vec = TfidfVectorizer()\n",
    "X = vec.fit_transform(data)\n",
    "tdata = pd.DataFrame(X.toarray(), columns=vec.get_feature_names_out())\n",
    "\n",
    "print(tdata)"
   ]
  },
  {
   "cell_type": "markdown",
   "metadata": {},
   "source": [
    "We now have values expressed in weights: if a word appears **less times**, it is considered as **more important**"
   ]
  }
 ],
 "metadata": {
  "kernelspec": {
   "display_name": "ailab",
   "language": "python",
   "name": "python3"
  },
  "language_info": {
   "codemirror_mode": {
    "name": "ipython",
    "version": 3
   },
   "file_extension": ".py",
   "mimetype": "text/x-python",
   "name": "python",
   "nbconvert_exporter": "python",
   "pygments_lexer": "ipython3",
   "version": "3.12.2"
  }
 },
 "nbformat": 4,
 "nbformat_minor": 2
}
