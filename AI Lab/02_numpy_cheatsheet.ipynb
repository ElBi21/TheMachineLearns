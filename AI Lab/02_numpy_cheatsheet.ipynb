{
 "cells": [
  {
   "cell_type": "markdown",
   "metadata": {},
   "source": [
    "<h1 align=\"center\"><b>AI Lab: Computer Vision and NLP</b></h1>\n",
    "<h3 align=\"center\">Lectures 03-04: <code>numpy</code> cheatsheet</h3>\n",
    "\n",
    "---"
   ]
  },
  {
   "cell_type": "markdown",
   "metadata": {},
   "source": [
    "The data that will be used throughout this course can be seen, most of the times, as a collection of **arrays**: images, audio files, biological signalsn, and so on and so forth...\n",
    "\n",
    "No matter the data, it must be translated first in an array in order to be used. The `numpy` package (stands for **Num**erical **Py**thon) allows to store and operate on such data. There are two ways to make a `numpy` array: we either create it from scratch or make one from a Python list. Here is an example:"
   ]
  },
  {
   "cell_type": "code",
   "execution_count": 1,
   "metadata": {},
   "outputs": [],
   "source": [
    "import numpy as np"
   ]
  },
  {
   "cell_type": "code",
   "execution_count": 2,
   "metadata": {},
   "outputs": [
    {
     "name": "stdout",
     "output_type": "stream",
     "text": [
      "Python list: [1, 2, 3, 4]\n",
      "Numpy list: [3 4 5]\n"
     ]
    }
   ],
   "source": [
    "py_list = [1, 2, 3, 4]\n",
    "np_list = np.array([3, 4, 5])\n",
    "\n",
    "print(f\"Python list: {py_list}\")\n",
    "print(f\"Numpy list: {np_list}\")"
   ]
  },
  {
   "cell_type": "markdown",
   "metadata": {},
   "source": [
    "We can also use `C`/`C++` types for the values stored inside an array. When `numpy` creates an array, it uses the type that can universally fit all the numbers. For instance, in a list such as $[1, \\; 2, \\; 3, \\; 4]$, the type is `int8`, while in a list such as $[3.14, \\; 9.71, \\; 4]$, the type is `float8`."
   ]
  },
  {
   "cell_type": "code",
   "execution_count": 2,
   "metadata": {},
   "outputs": [],
   "source": [
    "int_list = np.array([1, 2, 3, 4], dtype=\"int8\")\n",
    "float_list = np.array([3.14, 9.71, 4], dtype=\"float\")"
   ]
  },
  {
   "cell_type": "markdown",
   "metadata": {},
   "source": [
    "[recover stuff]"
   ]
  },
  {
   "cell_type": "markdown",
   "metadata": {},
   "source": [
    "We can create with `np.random.randint()` a matrix of given shape with random integers. The syntax is the following:\n",
    "\n",
    "> ```python\n",
    "> np.random.randint(x, y, (n, m))\n",
    "> ```\n",
    "> where:\n",
    ">  - $x$ stands for the **initial number** of the range of the values that will be picked;\n",
    ">  - $y$ stands for the **last number** of the range of values that will be picked;\n",
    ">  - $n$ stands for the number of **rows**;\n",
    ">  - $m$ stands for the number of **columns**;"
   ]
  },
  {
   "cell_type": "code",
   "execution_count": 19,
   "metadata": {},
   "outputs": [
    {
     "name": "stdout",
     "output_type": "stream",
     "text": [
      "[[1 1 9]\n",
      " [2 1 9]\n",
      " [6 5 1]]\n"
     ]
    }
   ],
   "source": [
    "a_list = np.random.randint(0, 10, (3, 3))\n",
    "\n",
    "print(a_list)"
   ]
  },
  {
   "cell_type": "markdown",
   "metadata": {},
   "source": [
    "We can access to a column or a row of the matrix via the following syntax:\n",
    "> ```python\n",
    "> a_row = matrix[x, :]\n",
    "> a column = matrix[:, x]\n",
    "> ```\n",
    "> where $x$ stands for the index of the row or coolumn that we want to access. The `:` represents the slicing."
   ]
  },
  {
   "cell_type": "code",
   "execution_count": 23,
   "metadata": {},
   "outputs": [
    {
     "name": "stdout",
     "output_type": "stream",
     "text": [
      "[2 1 9]\n"
     ]
    }
   ],
   "source": [
    "row_col = a_list[1,:]\n",
    "\n",
    "print(row_col)"
   ]
  },
  {
   "cell_type": "markdown",
   "metadata": {},
   "source": [
    "We can also access to a subarray of the initial array by using the syntax\n",
    "> ```python\n",
    "> subarray = matrix[a:b, c:d, ...]\n",
    "> ```\n",
    "> where:\n",
    ">  - each couple $a:b$ represents the range of rows/columns that slice the original matrix.\n",
    "\n",
    "The process is described as follows: suppose that we want to run the command `subarray = matrix[1:3, 0:2]` on the following matrix\n",
    "\n",
    "$$\\begin{bmatrix}1 & 2 & 3 \\\\ 4 & 5 & 6 \\\\ 7 & 8 & 9\\end{bmatrix} \\quad \\rightarrow_{\\texttt{1:3} \\text{ (on rows)}} \\quad \\begin{bmatrix} \\; & 2 & 3 \\\\ \\; & 5 & 6 \\\\ \\; & 8 & 9\\end{bmatrix} \\quad \\rightarrow_{\\texttt{0:2} \\text{ (on cols)}} \\quad \\begin{bmatrix} \\; & 2 & 3 \\\\ \\; & 5 & 6 \\\\ \\; & \\; & \\; \\end{bmatrix} \\quad \\rightarrow_{\\text{resize}} \\quad \\begin{bmatrix} 2 & 3 \\\\ 5 & 6 \\end{bmatrix}$$"
   ]
  },
  {
   "cell_type": "code",
   "execution_count": 25,
   "metadata": {},
   "outputs": [
    {
     "name": "stdout",
     "output_type": "stream",
     "text": [
      "[[2 1]\n",
      " [6 5]]\n"
     ]
    }
   ],
   "source": [
    "subarray = a_list[1:3, 0:2]\n",
    "\n",
    "print(subarray)"
   ]
  },
  {
   "cell_type": "code",
   "execution_count": 28,
   "metadata": {},
   "outputs": [
    {
     "name": "stdout",
     "output_type": "stream",
     "text": [
      "[1 2 3 4 5 6 7 8 9]\n",
      "[[1]\n",
      " [2]\n",
      " [3]\n",
      " [4]\n",
      " [5]\n",
      " [6]\n",
      " [7]\n",
      " [8]\n",
      " [9]]\n"
     ]
    }
   ],
   "source": [
    "randlist = np.arange(1,10)\n",
    "print(randlist)\n",
    "\n",
    "col = randlist[:, np.newaxis]\n",
    "print(col)"
   ]
  },
  {
   "cell_type": "markdown",
   "metadata": {},
   "source": [
    "We can also concatenate various arrays into a single one. we use the `np.concatenate()` function:\n",
    "> ```python\n",
    "> np.concatenate([array1, array2, ...])\n",
    "> ```\n",
    "> where:\n",
    ">  - `array1`, `array2`, etc... are all arrays that we can concatenate. We can concatenate how many arrays we want."
   ]
  },
  {
   "cell_type": "code",
   "execution_count": 33,
   "metadata": {},
   "outputs": [
    {
     "name": "stdout",
     "output_type": "stream",
     "text": [
      "[1 2 3 4 5 6]\n"
     ]
    }
   ],
   "source": [
    "array1 = [1, 2, 3]\n",
    "array2 = [4, 5, 6]\n",
    "\n",
    "concatenated_array = np.concatenate([array1, array2])\n",
    "\n",
    "print(concatenated_array)"
   ]
  },
  {
   "cell_type": "markdown",
   "metadata": {},
   "source": [
    "Of course it works for multi-dimensional arrays as well."
   ]
  },
  {
   "cell_type": "code",
   "execution_count": 38,
   "metadata": {},
   "outputs": [
    {
     "name": "stdout",
     "output_type": "stream",
     "text": [
      "[[1 2 3 4]\n",
      " [5 6 7 8]\n",
      " [7 6 2 9]\n",
      " [8 6 1 3]]\n"
     ]
    }
   ],
   "source": [
    "array3 = np.array([[1, 2, 3, 4], [5, 6, 7, 8]])\n",
    "array4 = np.random.randint(1, 10, (2, 4))\n",
    "\n",
    "another_concatenated_array = np.concatenate([array3, array4])\n",
    "\n",
    "print(another_concatenated_array)"
   ]
  },
  {
   "cell_type": "markdown",
   "metadata": {},
   "source": [
    "We can also stack arrays one on top of the other, or eventually also horizontally. We can use the `np.vstack()` and `np.hstack()` functions"
   ]
  },
  {
   "cell_type": "code",
   "execution_count": 41,
   "metadata": {},
   "outputs": [
    {
     "name": "stdout",
     "output_type": "stream",
     "text": [
      "[[1 2 3 7]\n",
      " [4 5 6 8]]\n"
     ]
    }
   ],
   "source": [
    "array5 = np.array([[1, 2, 3], [4, 5, 6]])\n",
    "to_stack = np.array([[7], [8]])\n",
    "\n",
    "h_stacked = np.hstack([array5, to_stack])\n",
    "\n",
    "print(h_stacked)"
   ]
  },
  {
   "cell_type": "markdown",
   "metadata": {},
   "source": [
    "We can also stack in more dimensions, by using the `np.dstack()` function"
   ]
  },
  {
   "cell_type": "code",
   "execution_count": 43,
   "metadata": {},
   "outputs": [
    {
     "name": "stdout",
     "output_type": "stream",
     "text": [
      "[[[ 1  7]\n",
      "  [ 2  8]\n",
      "  [ 3  9]]\n",
      "\n",
      " [[ 4 10]\n",
      "  [ 5 11]\n",
      "  [ 6 12]]]\n"
     ]
    }
   ],
   "source": [
    "d_stacked = np.dstack([array5, [[7, 8, 9], [10, 11, 12]]])\n",
    "\n",
    "print(d_stacked)"
   ]
  },
  {
   "cell_type": "markdown",
   "metadata": {},
   "source": [
    "Arrays can also be split, thanks to the `np.split()` function"
   ]
  },
  {
   "cell_type": "code",
   "execution_count": 51,
   "metadata": {},
   "outputs": [
    {
     "name": "stdout",
     "output_type": "stream",
     "text": [
      "[[1 2 3 7]\n",
      " [4 5 6 8]]\n",
      "[[1 2 3 7]\n",
      " [4 5 6 8]] [] [[4 5 6 8]]\n"
     ]
    }
   ],
   "source": [
    "a1, a2, a3 = np.split(h_stacked, [2, 1])\n",
    "\n",
    "print(h_stacked)\n",
    "print(a1, a2, a3)"
   ]
  },
  {
   "cell_type": "markdown",
   "metadata": {},
   "source": [
    "Numpy allows to run in parallel some computations via the `ufuncs` \"function\". We should avoid as much as possible to do loops in a classical Python-ish way.\n",
    "\n",
    "Numpy allows to have random numbers. We can use `np.random.seed(x)`, where $x$ is a fixed seed, that will generate, whenever we will use a function that generates random numbers, the **same** and **identical numbers**.\n",
    "\n",
    "Let's try to run the following function:"
   ]
  },
  {
   "cell_type": "code",
   "execution_count": 52,
   "metadata": {},
   "outputs": [
    {
     "name": "stdout",
     "output_type": "stream",
     "text": [
      "[0.16666667 1.         0.25       0.25       0.125     ]\n"
     ]
    }
   ],
   "source": [
    "np.random.seed(0)\n",
    "\n",
    "def compute_reciprocals(values):\n",
    "    output = np.empty(len(values))\n",
    "    for i in range(len(values)):\n",
    "        output[i] = 1.0 / values[i]\n",
    "    return output\n",
    "\n",
    "values = np.random.randint(1, 10, size=500000)\n",
    "out = compute_reciprocals(values)\n",
    "print(out)"
   ]
  },
  {
   "cell_type": "markdown",
   "metadata": {},
   "source": [
    "We now run again the function, but with some time measurements"
   ]
  },
  {
   "cell_type": "code",
   "execution_count": 57,
   "metadata": {},
   "outputs": [
    {
     "name": "stdout",
     "output_type": "stream",
     "text": [
      "[0.08333333 0.02325581 0.04       ... 0.01388889 0.06666667 0.01639344]\n",
      "Total time needed (without ufuncs): 16.67507004737854\n"
     ]
    }
   ],
   "source": [
    "import time\n",
    "\n",
    "start_time = time.time()\n",
    "out = compute_reciprocals(values)\n",
    "end_time = time.time() - start_time\n",
    "\n",
    "print(out)\n",
    "print(f\"Total time needed (without ufuncs): {end_time}\")"
   ]
  },
  {
   "cell_type": "markdown",
   "metadata": {},
   "source": [
    "We can now try to use `ufuncs` in order to compare how much faster we can go with `numpy`:"
   ]
  },
  {
   "cell_type": "code",
   "execution_count": 56,
   "metadata": {},
   "outputs": [
    {
     "name": "stdout",
     "output_type": "stream",
     "text": [
      "[0.08333333 0.02325581 0.04       ... 0.01388889 0.06666667 0.01639344]\n",
      "Total time needed (with ufuncs): 0.07526397705078125\n"
     ]
    }
   ],
   "source": [
    "start_time = time.time()\n",
    "out = 1.0 / values\n",
    "end_time = time.time() - start_time\n",
    "\n",
    "print(out)\n",
    "print(f\"Total time needed (with ufuncs): {end_time}\")"
   ]
  },
  {
   "cell_type": "markdown",
   "metadata": {},
   "source": [
    "There is a notable difference: 16,6s against 0,07. That's a noticeable speedup in the computations, hence the reason why we should always prefer `numpy`'s functions against Python's standard functions and methods. Here we have some other examples of `ufuncs`:"
   ]
  },
  {
   "cell_type": "code",
   "execution_count": 59,
   "metadata": {},
   "outputs": [
    {
     "name": "stdout",
     "output_type": "stream",
     "text": [
      "[1.08333333 1.02325581 1.04       ... 1.01388889 1.06666667 1.01639344]\n"
     ]
    }
   ],
   "source": [
    "addition = 1.0 + out\n",
    "# Short version of np.add(1, values)\n",
    "\n",
    "print(addition)"
   ]
  }
 ],
 "metadata": {
  "kernelspec": {
   "display_name": "ailab",
   "language": "python",
   "name": "python3"
  },
  "language_info": {
   "codemirror_mode": {
    "name": "ipython",
    "version": 3
   },
   "file_extension": ".py",
   "mimetype": "text/x-python",
   "name": "python",
   "nbconvert_exporter": "python",
   "pygments_lexer": "ipython3",
   "version": "3.12.2"
  }
 },
 "nbformat": 4,
 "nbformat_minor": 2
}
