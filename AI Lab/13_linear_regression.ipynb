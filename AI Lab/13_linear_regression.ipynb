{
 "cells": [
  {
   "cell_type": "markdown",
   "metadata": {},
   "source": [
    "<h1 align=\"center\"><b>AI Lab: Computer Vision and NLP</b></h1>\n",
    "<h3 align=\"center\">Lecture 13: Linear Regression</h3>\n",
    "\n",
    "---"
   ]
  },
  {
   "cell_type": "markdown",
   "metadata": {},
   "source": [
    "In order to do linear regression, we must first import some packages:"
   ]
  },
  {
   "cell_type": "code",
   "execution_count": 5,
   "metadata": {},
   "outputs": [],
   "source": [
    "import seaborn as sns   # For the dataset\n",
    "import matplotlib.pyplot as plt     # For plotting\n",
    "from sklearn.model_selection import train_test_split    # For the model\n",
    "from sklearn.naive_bayes import GaussianNB\n",
    "from sklearn.metrics import accuracy_score"
   ]
  },
  {
   "cell_type": "markdown",
   "metadata": {},
   "source": [
    "We can initialize the `iris` dataset, and we can divide the dataset into `X_iris` (which will have only the data of the flowers without the `species` label) and `Y_iris` (which contains the labels):"
   ]
  },
  {
   "cell_type": "code",
   "execution_count": 8,
   "metadata": {},
   "outputs": [],
   "source": [
    "iris = sns.load_dataset(\"iris\")\n",
    "\n",
    "X_iris = iris.drop(\"species\", axis=1)\n",
    "Y_iris = iris[\"species\"]"
   ]
  },
  {
   "cell_type": "code",
   "execution_count": 9,
   "metadata": {},
   "outputs": [],
   "source": [
    "# Split the dataset into training set and test set\n",
    "Xtrain, Xtest, Ytrain, Ytest = train_test_split(X_iris, Y_iris, train_size=0.5)\n",
    "\n",
    "# Create the model as a Gaussian model\n",
    "model = GaussianNB()\n",
    "\n",
    "# Train the model\n",
    "model.fit(Xtrain, Ytrain)\n",
    "\n",
    "# Do the predictions\n",
    "y_pred = model.predict(Xtest)\n",
    "\n",
    "# ...\n",
    "\n",
    "# X = x[:, np.newaxis]"
   ]
  }
 ],
 "metadata": {
  "kernelspec": {
   "display_name": "ailab",
   "language": "python",
   "name": "python3"
  },
  "language_info": {
   "codemirror_mode": {
    "name": "ipython",
    "version": 3
   },
   "file_extension": ".py",
   "mimetype": "text/x-python",
   "name": "python",
   "nbconvert_exporter": "python",
   "pygments_lexer": "ipython3",
   "version": "3.12.2"
  }
 },
 "nbformat": 4,
 "nbformat_minor": 2
}
