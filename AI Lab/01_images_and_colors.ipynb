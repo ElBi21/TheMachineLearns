{
 "cells": [
  {
   "cell_type": "markdown",
   "metadata": {},
   "source": [
    "<h1 align=\"center\"><b>AI Lab: Computer Vision and NLP</b></h1>\n",
    "<h3 align=\"center\">Lectures 01-02: Images and Colors</h3>\n",
    "\n",
    "---"
   ]
  },
  {
   "cell_type": "markdown",
   "metadata": {},
   "source": [
    "We want to do a function which computes the sum of an item and the next one. We disregard the last item. We want to do something which computes\n",
    "\n",
    "$$ a_n = \\{a_1, \\; a_2, \\; ..., \\; a_n \\} \\quad \\Longrightarrow \\quad b_n = \\{ b_1 = a_1 + a_2, \\; b_2 = a_2 + a_3, \\; ..., \\; b_{n-1} = a_{n-1} + a_n \\} $$"
   ]
  }
 ],
 "metadata": {
  "kernelspec": {
   "display_name": "Python 3",
   "language": "python",
   "name": "python3"
  },
  "language_info": {
   "codemirror_mode": {
    "name": "ipython",
    "version": 3
   },
   "file_extension": ".py",
   "mimetype": "text/x-python",
   "name": "python",
   "nbconvert_exporter": "python",
   "pygments_lexer": "ipython3",
   "version": "3.11.8"
  }
 },
 "nbformat": 4,
 "nbformat_minor": 2
}
