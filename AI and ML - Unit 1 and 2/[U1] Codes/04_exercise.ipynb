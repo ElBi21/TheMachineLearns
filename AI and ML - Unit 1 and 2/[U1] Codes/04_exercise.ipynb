{
 "cells": [
  {
   "cell_type": "markdown",
   "metadata": {},
   "source": [
    "<h1 align=\"center\"><b>Exercise on Games</b></h1>"
   ]
  },
  {
   "cell_type": "markdown",
   "metadata": {},
   "source": [
    "---"
   ]
  },
  {
   "cell_type": "markdown",
   "metadata": {},
   "source": [
    "Import all the necessary packages"
   ]
  },
  {
   "cell_type": "code",
   "execution_count": 106,
   "metadata": {},
   "outputs": [],
   "source": [
    "import random\n",
    "import numpy as np\n",
    "import time\n",
    "from collections import namedtuple"
   ]
  },
  {
   "cell_type": "markdown",
   "metadata": {},
   "source": [
    "Class Game, which is a super class of `TicTacToe`"
   ]
  },
  {
   "cell_type": "code",
   "execution_count": 107,
   "metadata": {},
   "outputs": [],
   "source": [
    "class Game:\n",
    "    \"\"\"Defines a `Game` data structure\n",
    "    \n",
    "    Attributes:\n",
    "        `self.initial`: the initial state of the game\"\"\"\n",
    "    def __init__(self, initial_state):\n",
    "        \"\"\"Initialize a new game, and store into `self.initial` the `initial_state` given as input\n",
    "        \n",
    "        Parameters:\n",
    "            `initial_state`: the state on which the `Game` is based\"\"\"\n",
    "        self.initial = initial_state\n",
    "\n",
    "    def play(self, players):\n",
    "        \"\"\"Plays the next step of the game, given as input two players\n",
    "        \n",
    "        Parameters:\n",
    "            `players`: a list of players\"\"\"\n",
    "        state = self.initial    # Set the current state as the initial state of the game\n",
    "        while True:     # While true...\n",
    "            for player in players:  # ...for each player in the list of players...\n",
    "                #print(f\"→ The player is {player}\")\n",
    "                if self.is_terminal(state):     # ...if the state would make the game end...\n",
    "                    return  # ...then break from the loop\n",
    "                move = player(self, state)  # otherwise get the next move\n",
    "                state = self.result(state, move)    # determine the next state, given a state and a move\n",
    "                self.display(state)     # display such state\n",
    "\n",
    "    def actions(self, state):\n",
    "        raise NotImplementedError\n",
    "\n",
    "    def result(self, state, move):\n",
    "        raise NotImplementedError\n",
    "\n",
    "    def utility(self, state, player):\n",
    "        raise NotImplementedError\n",
    "\n",
    "    def is_terminal(self, state):\n",
    "        return NotImplementedError\n",
    "\n",
    "    def display(self, state):\n",
    "        return NotImplementedError\n",
    "\n",
    "GameState = namedtuple('GameState', ['to_move', 'utility', 'board', 'moves'])"
   ]
  },
  {
   "cell_type": "code",
   "execution_count": 108,
   "metadata": {},
   "outputs": [],
   "source": [
    "def evaluation_function(board: dict):\n",
    "    \"\"\"Evaluates the current situation, and returns the difference between the places on \"\"\"\n",
    "    # Board: dict((pos_x, pos_y): \"player\", ...)\n",
    "    npbd = np.ones((3, 3))\n",
    "    for key in board.keys():\n",
    "        #print(f\"Key: {key} - Value: {value}\")\n",
    "        if board[key] == \"O\":\n",
    "            npbd[key[0]-1][key[1]-1] = 0\n",
    "    print(npbd)\n"
   ]
  },
  {
   "cell_type": "markdown",
   "metadata": {},
   "source": [
    "Class tictactoe"
   ]
  },
  {
   "cell_type": "code",
   "execution_count": 109,
   "metadata": {},
   "outputs": [],
   "source": [
    "class TicTacToe(Game):\n",
    "    \"\"\"A `TicTacToe` game, which is a subclass of the `Game` class\"\"\"\n",
    "    def __init__(self, h=3, v=3, k=3):\n",
    "        \"\"\"Initialize TicTacToe with board size and winning condition\n",
    "        \n",
    "        Parameters\n",
    "            `h` (normally `3`): height of the board;\n",
    "            `v` (normally `3`): width of the board;\n",
    "            `k` (normally `3`): ???\n",
    "        \"\"\"\n",
    "        super().__init__(GameState(to_move='X', utility=0, board={},\n",
    "                                   moves=self._all_possible_moves(h, v)))   # The game always starts with X\n",
    "        self.h = h\n",
    "        self.v = v\n",
    "        self.k = k\n",
    "\n",
    "    def _all_possible_moves(self, h, v):\n",
    "        \"\"\"Generate all possible moves on the given board size.\"\"\"\n",
    "        return [(x, y) for x in range(1, h + 1) for y in range(1, v + 1)]\n",
    "\n",
    "    def actions(self, state):\n",
    "        \"\"\"Returns the moves of a state\n",
    "        \n",
    "        Parameters:\n",
    "            `state`: a state of which we want to know the actions\"\"\"\n",
    "        return state.moves\n",
    "\n",
    "    def result(self, state, move):\n",
    "        \"\"\"Does smth\"\"\"\n",
    "        if move not in state.moves: # If the move is not in the \n",
    "            return state\n",
    "        board = state.board.copy()\n",
    "        board[move] = state.to_move\n",
    "        moves = list(state.moves)\n",
    "        moves.remove(move)\n",
    "        next_player = 'O' if state.to_move == 'X' else 'X'\n",
    "        return GameState(to_move=next_player,\n",
    "                        utility=self.compute_utility(board, move, state.to_move),\n",
    "                        board=board, moves=moves)\n",
    "\n",
    "    def utility(self, state, player):\n",
    "        return state.utility if player == 'X' else -state.utility\n",
    "\n",
    "    def is_terminal(self, state):\n",
    "        return state.utility != 0 or len(state.moves) == 0\n",
    "\n",
    "    def display(self, state):\n",
    "        board = state.board\n",
    "        for x in range(1, self.h + 1):\n",
    "            for y in range(1, self.v + 1):\n",
    "                print(board.get((x, y), '.'), end=' ')\n",
    "            print()\n",
    "\n",
    "    def compute_utility(self, board, move, player):\n",
    "        \"\"\"If 'X' wins with this move, return 1; if 'O' wins return -1; else return 0.\"\"\"\n",
    "        if (self.k_in_row(board, move, player, (0, 1)) or\n",
    "                self.k_in_row(board, move, player, (1, 0)) or\n",
    "                self.k_in_row(board, move, player, (1, -1)) or\n",
    "                self.k_in_row(board, move, player, (1, 1))):\n",
    "            return +1 if player == 'X' else - 1\n",
    "        else:\n",
    "            return 0\n",
    "\n",
    "    def k_in_row(self, board, move, player, delta_x_y):\n",
    "        \"\"\"Return true if there is a line through move on board for player.\"\"\"\n",
    "        (delta_x, delta_y) = delta_x_y\n",
    "        x, y = move\n",
    "        n = 0  # n is number of moves in row\n",
    "        while board.get((x, y)) == player:\n",
    "            n += 1\n",
    "            x, y = x + delta_x, y + delta_y\n",
    "        x, y = move\n",
    "        while board.get((x, y)) == player:\n",
    "            n += 1\n",
    "            x, y = x - delta_x, y - delta_y\n",
    "        n -= 1  # Because we counted move itself twice\n",
    "        return n >= self.k"
   ]
  },
  {
   "cell_type": "code",
   "execution_count": 110,
   "metadata": {},
   "outputs": [],
   "source": [
    "MAX, MIN = np.inf, -np.inf\n",
    "\n",
    "def minmax_search(game, state):\n",
    "    player = state.to_move\n",
    "\n",
    "    def max_value(state):\n",
    "        evaluation_function(state.board)\n",
    "        if game.is_terminal(state):\n",
    "            return game.utility(state, player)\n",
    "        v = MIN\n",
    "        for successor in game.actions(state):\n",
    "            v = max(v, min_value(game.result(state, successor)))\n",
    "        return v\n",
    "    \n",
    "    def min_value(state):\n",
    "        evaluation_function(state.board)\n",
    "        if game.is_terminal(state):\n",
    "            return game.utility(state, player)\n",
    "        v = MAX\n",
    "        for successor in game.actions(state):\n",
    "            v = min(v, max_value(game.result(state, successor)))\n",
    "        return v\n",
    "    \n",
    "    print(f\"\\n→ Turn of {player}, the available actions are {game.actions(state)}\")\n",
    "    print(state.board)\n",
    "    evaluation_function(state.board)\n",
    "    return max(game.actions(state), key=lambda a: min_value(game.result(state, a)))\n",
    "\n",
    "def random_player(game, state):\n",
    "    return random.choice(list(game.actions(state)))\n",
    "\n",
    "def player(search_algorithm):\n",
    "    return lambda game, state: search_algorithm(game, state)"
   ]
  },
  {
   "cell_type": "code",
   "execution_count": 111,
   "metadata": {},
   "outputs": [
    {
     "name": "stdout",
     "output_type": "stream",
     "text": [
      "\n",
      "→ Turn of X, the available actions are [(1, 1), (1, 2), (1, 3), (2, 1), (2, 2), (2, 3), (3, 1), (3, 2), (3, 3)]\n",
      "{}\n"
     ]
    }
   ],
   "source": [
    "TicTacToe().play([player(minmax_search), random_player])"
   ]
  }
 ],
 "metadata": {
  "kernelspec": {
   "display_name": "ailab",
   "language": "python",
   "name": "python3"
  },
  "language_info": {
   "codemirror_mode": {
    "name": "ipython",
    "version": 3
   },
   "file_extension": ".py",
   "mimetype": "text/x-python",
   "name": "python",
   "nbconvert_exporter": "python",
   "pygments_lexer": "ipython3",
   "version": "3.12.2"
  }
 },
 "nbformat": 4,
 "nbformat_minor": 2
}
