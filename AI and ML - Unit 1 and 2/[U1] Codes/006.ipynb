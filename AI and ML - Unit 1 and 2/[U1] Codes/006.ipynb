{
 "cells": [
  {
   "cell_type": "code",
   "execution_count": 33,
   "metadata": {},
   "outputs": [],
   "source": [
    "import random\n",
    "import numpy as np\n",
    "from collections import namedtuple"
   ]
  },
  {
   "cell_type": "code",
   "execution_count": 34,
   "metadata": {},
   "outputs": [],
   "source": [
    "class Game:\n",
    "    def __init__(self, initial_state):\n",
    "        self.initial = initial_state\n",
    "\n",
    "    def play(self, players):\n",
    "        state = self.initial\n",
    "        while True:\n",
    "            for player in players:\n",
    "                if self.is_terminal(state): return\n",
    "                move = player(self, state)\n",
    "                state = self.result(state, move)\n",
    "                self.display(state)\n",
    "\n",
    "    def actions(self, state):\n",
    "        raise NotImplementedError\n",
    "\n",
    "    def result(self, state, move):\n",
    "        raise NotImplementedError\n",
    "\n",
    "    def utility(self, state, player):\n",
    "        raise NotImplementedError\n",
    "\n",
    "    def is_terminal(self, state):\n",
    "        return NotImplementedError\n",
    "\n",
    "    def display(self, state):\n",
    "        return NotImplementedError\n",
    "\n",
    "GameState = namedtuple('GameState', ['to_move', 'utility', 'board', 'moves'])"
   ]
  },
  {
   "cell_type": "code",
   "execution_count": 35,
   "metadata": {},
   "outputs": [],
   "source": [
    "class TicTacToe(Game):\n",
    "    def __init__(self, h=3, v=3, k=3):\n",
    "        \"\"\"Initialize TicTacToe with board size and winning condition.\"\"\"\n",
    "        super().__init__(GameState(to_move='X', utility=0, board={},\n",
    "                                   moves=self._all_possible_moves(h, v)))\n",
    "        self.h = h\n",
    "        self.v = v\n",
    "        self.k = k\n",
    "\n",
    "    def _all_possible_moves(self, h, v):\n",
    "        \"\"\"Generate all possible moves on the given board size.\"\"\"\n",
    "        return [(x, y) for x in range(1, h + 1) for y in range(1, v + 1)]\n",
    "\n",
    "    def actions(self, state):\n",
    "        return state.moves\n",
    "\n",
    "    def result(self, state, move):\n",
    "        if move not in state.moves:\n",
    "            return state\n",
    "        board = state.board.copy()\n",
    "        board[move] = state.to_move\n",
    "        moves = list(state.moves)\n",
    "        moves.remove(move)\n",
    "        next_player = 'O' if state.to_move == 'X' else 'X'\n",
    "        return GameState(to_move=next_player,\n",
    "                        utility=self.compute_utility(board, move, state.to_move),\n",
    "                        board=board, moves=moves)\n",
    "\n",
    "    def utility(self, state, player):\n",
    "        return state.utility if player == 'X' else -state.utility\n",
    "\n",
    "    def is_terminal(self, state):\n",
    "        return state.utility != 0 or len(state.moves) == 0\n",
    "\n",
    "    def display(self, state):\n",
    "        board = state.board\n",
    "        for x in range(1, self.h + 1):\n",
    "            for y in range(1, self.v + 1):\n",
    "                print(board.get((x, y), '.'), end=' ')\n",
    "            print()\n",
    "\n",
    "    def compute_utility(self, board, move, player):\n",
    "        \"\"\"If 'X' wins with this move, return 1; if 'O' wins return -1; else return 0.\"\"\"\n",
    "        if (self.k_in_row(board, move, player, (0, 1)) or\n",
    "                self.k_in_row(board, move, player, (1, 0)) or\n",
    "                self.k_in_row(board, move, player, (1, -1)) or\n",
    "                self.k_in_row(board, move, player, (1, 1))):\n",
    "            return +1 if player == 'X' else - 1\n",
    "        else:\n",
    "            return 0\n",
    "\n",
    "    def k_in_row(self, board, move, player, delta_x_y):\n",
    "        \"\"\"Return true if there is a line through move on board for player.\"\"\"\n",
    "        (delta_x, delta_y) = delta_x_y\n",
    "        x, y = move\n",
    "        n = 0  # n is number of moves in row\n",
    "        while board.get((x, y)) == player:\n",
    "            n += 1\n",
    "            x, y = x + delta_x, y + delta_y\n",
    "        x, y = move\n",
    "        while board.get((x, y)) == player:\n",
    "            n += 1\n",
    "            x, y = x - delta_x, y - delta_y\n",
    "        n -= 1  # Because we counted move itself twice\n",
    "        return n >= self.k"
   ]
  },
  {
   "cell_type": "markdown",
   "metadata": {},
   "source": [
    "## MinMax Search"
   ]
  },
  {
   "cell_type": "code",
   "execution_count": 36,
   "metadata": {},
   "outputs": [],
   "source": [
    "MAX, MIN = np.inf, -np.inf\n",
    "\n",
    "def minmax_search(game, state):\n",
    "    player = state.to_move\n",
    "\n",
    "    def max_value(state):\n",
    "        if game.is_terminal(state):\n",
    "            return game.utility(state, player)\n",
    "        v = MIN\n",
    "        for successor in game.actions(state):\n",
    "            v = max(v, min_value(game.result(state, successor)))\n",
    "        return v\n",
    "    \n",
    "    def min_value(state):\n",
    "        if game.is_terminal(state):\n",
    "            return game.utility(state, player)\n",
    "        v = MAX\n",
    "        for successor in game.actions(state):\n",
    "            v = min(v, max_value(game.result(state, successor)))\n",
    "        return v\n",
    "    \n",
    "    print(f\"→ Turn of {player}, the available actions are {game.actions(state)}\")\n",
    "\n",
    "    return max(game.actions(state), key=lambda a: min_value(game.result(state, a)))\n",
    "\n",
    "def random_player(game, state):\n",
    "    return random.choice(list(game.actions(state)))\n",
    "\n",
    "def player(search_algorithm):\n",
    "    return lambda game, state: search_algorithm(game, state)"
   ]
  },
  {
   "cell_type": "code",
   "execution_count": 37,
   "metadata": {},
   "outputs": [
    {
     "name": "stdout",
     "output_type": "stream",
     "text": [
      "→ Turn of X, the available actions are [(1, 1), (1, 2), (1, 3), (2, 1), (2, 2), (2, 3), (3, 1), (3, 2), (3, 3)]\n",
      "X . . \n",
      ". . . \n",
      ". . . \n",
      "X . . \n",
      ". . . \n",
      ". O . \n",
      "→ Turn of X, the available actions are [(1, 2), (1, 3), (2, 1), (2, 2), (2, 3), (3, 1), (3, 3)]\n",
      "X . X \n",
      ". . . \n",
      ". O . \n",
      "X . X \n",
      ". O . \n",
      ". O . \n",
      "→ Turn of X, the available actions are [(1, 2), (2, 1), (2, 3), (3, 1), (3, 3)]\n",
      "X X X \n",
      ". O . \n",
      ". O . \n"
     ]
    }
   ],
   "source": [
    "#TicTacToe().play([player(minmax_search), player(minmax_search)])\n",
    "TicTacToe().play([player(minmax_search), random_player])"
   ]
  },
  {
   "cell_type": "markdown",
   "metadata": {},
   "source": [
    "# Alpha Beta Pruning"
   ]
  },
  {
   "cell_type": "code",
   "execution_count": 60,
   "metadata": {},
   "outputs": [],
   "source": [
    "MAX, MIN = np.inf, -np.inf\n",
    "alpha = -np.inf\n",
    "beta = np.inf\n",
    "\n",
    "def alpha_beta_pruning(game, state):\n",
    "    player = state.to_move\n",
    "    \n",
    "    def max_value(state):\n",
    "        if game.is_terminal(state):\n",
    "            return game.utility(state, player)\n",
    "        v = MIN\n",
    "        for successor in game.actions(state):\n",
    "            v_prime = max(v, min_value(game.result(state, successor)))\n",
    "            if v_prime > v:\n",
    "                v = v_prime\n",
    "            if v_prime >= beta:\n",
    "                return v\n",
    "            print(f\"{alpha}\")\n",
    "            if v_prime > alpha:\n",
    "                alpha = v_prime\n",
    "        return v\n",
    "    \n",
    "    def min_value(state):\n",
    "        if game.is_terminal(state):\n",
    "            return game.utility(state, player)\n",
    "        v = MAX\n",
    "        for successor in game.actions(state):\n",
    "            v_prime = min(v, max_value(game.result(state, successor)))\n",
    "            if v_prime < v:\n",
    "                v = v_prime\n",
    "            if v_prime <= alpha:\n",
    "                return v\n",
    "            if v_prime < beta:\n",
    "                beta = v_prime\n",
    "        return v\n",
    "    \n",
    "    print(f\"→ Turn of {player}, the available actions are {game.actions(state)}\")\n",
    "\n",
    "    return max(game.actions(state), key=lambda a: min_value(game.result(state, a)))\n",
    "\n",
    "def random_player(game, state):\n",
    "    return random.choice(list(game.actions(state)))\n",
    "\n",
    "def player(search_algorithm):\n",
    "    return lambda game, state: search_algorithm(game, state)"
   ]
  },
  {
   "cell_type": "code",
   "execution_count": 61,
   "metadata": {},
   "outputs": [
    {
     "name": "stdout",
     "output_type": "stream",
     "text": [
      "→ Turn of X, the available actions are [(1, 1), (1, 2), (1, 3), (2, 1), (2, 2), (2, 3), (3, 1), (3, 2), (3, 3)]\n"
     ]
    },
    {
     "ename": "UnboundLocalError",
     "evalue": "cannot access local variable 'alpha' where it is not associated with a value",
     "output_type": "error",
     "traceback": [
      "\u001b[0;31m---------------------------------------------------------------------------\u001b[0m",
      "\u001b[0;31mUnboundLocalError\u001b[0m                         Traceback (most recent call last)",
      "Cell \u001b[0;32mIn[61], line 1\u001b[0m\n\u001b[0;32m----> 1\u001b[0m TicTacToe()\u001b[38;5;241m.\u001b[39mplay([player(alpha_beta_pruning), player(alpha_beta_pruning)])\n",
      "Cell \u001b[0;32mIn[34], line 10\u001b[0m, in \u001b[0;36mGame.play\u001b[0;34m(self, players)\u001b[0m\n\u001b[1;32m      8\u001b[0m \u001b[38;5;28;01mfor\u001b[39;00m player \u001b[38;5;129;01min\u001b[39;00m players:\n\u001b[1;32m      9\u001b[0m     \u001b[38;5;28;01mif\u001b[39;00m \u001b[38;5;28mself\u001b[39m\u001b[38;5;241m.\u001b[39mis_terminal(state): \u001b[38;5;28;01mreturn\u001b[39;00m\n\u001b[0;32m---> 10\u001b[0m     move \u001b[38;5;241m=\u001b[39m player(\u001b[38;5;28mself\u001b[39m, state)\n\u001b[1;32m     11\u001b[0m     state \u001b[38;5;241m=\u001b[39m \u001b[38;5;28mself\u001b[39m\u001b[38;5;241m.\u001b[39mresult(state, move)\n\u001b[1;32m     12\u001b[0m     \u001b[38;5;28mself\u001b[39m\u001b[38;5;241m.\u001b[39mdisplay(state)\n",
      "Cell \u001b[0;32mIn[60], line 45\u001b[0m, in \u001b[0;36mplayer.<locals>.<lambda>\u001b[0;34m(game, state)\u001b[0m\n\u001b[1;32m     44\u001b[0m \u001b[38;5;28;01mdef\u001b[39;00m \u001b[38;5;21mplayer\u001b[39m(search_algorithm):\n\u001b[0;32m---> 45\u001b[0m     \u001b[38;5;28;01mreturn\u001b[39;00m \u001b[38;5;28;01mlambda\u001b[39;00m game, state: search_algorithm(game, state)\n",
      "Cell \u001b[0;32mIn[60], line 39\u001b[0m, in \u001b[0;36malpha_beta_pruning\u001b[0;34m(game, state)\u001b[0m\n\u001b[1;32m     35\u001b[0m     \u001b[38;5;28;01mreturn\u001b[39;00m v\n\u001b[1;32m     37\u001b[0m \u001b[38;5;28mprint\u001b[39m(\u001b[38;5;124mf\u001b[39m\u001b[38;5;124m\"\u001b[39m\u001b[38;5;124m→ Turn of \u001b[39m\u001b[38;5;132;01m{\u001b[39;00mplayer\u001b[38;5;132;01m}\u001b[39;00m\u001b[38;5;124m, the available actions are \u001b[39m\u001b[38;5;132;01m{\u001b[39;00mgame\u001b[38;5;241m.\u001b[39mactions(state)\u001b[38;5;132;01m}\u001b[39;00m\u001b[38;5;124m\"\u001b[39m)\n\u001b[0;32m---> 39\u001b[0m \u001b[38;5;28;01mreturn\u001b[39;00m \u001b[38;5;28mmax\u001b[39m(game\u001b[38;5;241m.\u001b[39mactions(state), key\u001b[38;5;241m=\u001b[39m\u001b[38;5;28;01mlambda\u001b[39;00m a: min_value(game\u001b[38;5;241m.\u001b[39mresult(state, a)))\n",
      "Cell \u001b[0;32mIn[60], line 39\u001b[0m, in \u001b[0;36malpha_beta_pruning.<locals>.<lambda>\u001b[0;34m(a)\u001b[0m\n\u001b[1;32m     35\u001b[0m     \u001b[38;5;28;01mreturn\u001b[39;00m v\n\u001b[1;32m     37\u001b[0m \u001b[38;5;28mprint\u001b[39m(\u001b[38;5;124mf\u001b[39m\u001b[38;5;124m\"\u001b[39m\u001b[38;5;124m→ Turn of \u001b[39m\u001b[38;5;132;01m{\u001b[39;00mplayer\u001b[38;5;132;01m}\u001b[39;00m\u001b[38;5;124m, the available actions are \u001b[39m\u001b[38;5;132;01m{\u001b[39;00mgame\u001b[38;5;241m.\u001b[39mactions(state)\u001b[38;5;132;01m}\u001b[39;00m\u001b[38;5;124m\"\u001b[39m)\n\u001b[0;32m---> 39\u001b[0m \u001b[38;5;28;01mreturn\u001b[39;00m \u001b[38;5;28mmax\u001b[39m(game\u001b[38;5;241m.\u001b[39mactions(state), key\u001b[38;5;241m=\u001b[39m\u001b[38;5;28;01mlambda\u001b[39;00m a: min_value(game\u001b[38;5;241m.\u001b[39mresult(state, a)))\n",
      "Cell \u001b[0;32mIn[60], line 28\u001b[0m, in \u001b[0;36malpha_beta_pruning.<locals>.min_value\u001b[0;34m(state)\u001b[0m\n\u001b[1;32m     26\u001b[0m v \u001b[38;5;241m=\u001b[39m MAX\n\u001b[1;32m     27\u001b[0m \u001b[38;5;28;01mfor\u001b[39;00m successor \u001b[38;5;129;01min\u001b[39;00m game\u001b[38;5;241m.\u001b[39mactions(state):\n\u001b[0;32m---> 28\u001b[0m     v_prime \u001b[38;5;241m=\u001b[39m \u001b[38;5;28mmin\u001b[39m(v, max_value(game\u001b[38;5;241m.\u001b[39mresult(state, successor)))\n\u001b[1;32m     29\u001b[0m     \u001b[38;5;28;01mif\u001b[39;00m v_prime \u001b[38;5;241m<\u001b[39m v:\n\u001b[1;32m     30\u001b[0m         v \u001b[38;5;241m=\u001b[39m v_prime\n",
      "Cell \u001b[0;32mIn[60], line 13\u001b[0m, in \u001b[0;36malpha_beta_pruning.<locals>.max_value\u001b[0;34m(state)\u001b[0m\n\u001b[1;32m     11\u001b[0m v \u001b[38;5;241m=\u001b[39m MIN\n\u001b[1;32m     12\u001b[0m \u001b[38;5;28;01mfor\u001b[39;00m successor \u001b[38;5;129;01min\u001b[39;00m game\u001b[38;5;241m.\u001b[39mactions(state):\n\u001b[0;32m---> 13\u001b[0m     v_prime \u001b[38;5;241m=\u001b[39m \u001b[38;5;28mmax\u001b[39m(v, min_value(game\u001b[38;5;241m.\u001b[39mresult(state, successor)))\n\u001b[1;32m     14\u001b[0m     \u001b[38;5;28;01mif\u001b[39;00m v_prime \u001b[38;5;241m>\u001b[39m v:\n\u001b[1;32m     15\u001b[0m         v \u001b[38;5;241m=\u001b[39m v_prime\n",
      "Cell \u001b[0;32mIn[60], line 28\u001b[0m, in \u001b[0;36malpha_beta_pruning.<locals>.min_value\u001b[0;34m(state)\u001b[0m\n\u001b[1;32m     26\u001b[0m v \u001b[38;5;241m=\u001b[39m MAX\n\u001b[1;32m     27\u001b[0m \u001b[38;5;28;01mfor\u001b[39;00m successor \u001b[38;5;129;01min\u001b[39;00m game\u001b[38;5;241m.\u001b[39mactions(state):\n\u001b[0;32m---> 28\u001b[0m     v_prime \u001b[38;5;241m=\u001b[39m \u001b[38;5;28mmin\u001b[39m(v, max_value(game\u001b[38;5;241m.\u001b[39mresult(state, successor)))\n\u001b[1;32m     29\u001b[0m     \u001b[38;5;28;01mif\u001b[39;00m v_prime \u001b[38;5;241m<\u001b[39m v:\n\u001b[1;32m     30\u001b[0m         v \u001b[38;5;241m=\u001b[39m v_prime\n",
      "Cell \u001b[0;32mIn[60], line 13\u001b[0m, in \u001b[0;36malpha_beta_pruning.<locals>.max_value\u001b[0;34m(state)\u001b[0m\n\u001b[1;32m     11\u001b[0m v \u001b[38;5;241m=\u001b[39m MIN\n\u001b[1;32m     12\u001b[0m \u001b[38;5;28;01mfor\u001b[39;00m successor \u001b[38;5;129;01min\u001b[39;00m game\u001b[38;5;241m.\u001b[39mactions(state):\n\u001b[0;32m---> 13\u001b[0m     v_prime \u001b[38;5;241m=\u001b[39m \u001b[38;5;28mmax\u001b[39m(v, min_value(game\u001b[38;5;241m.\u001b[39mresult(state, successor)))\n\u001b[1;32m     14\u001b[0m     \u001b[38;5;28;01mif\u001b[39;00m v_prime \u001b[38;5;241m>\u001b[39m v:\n\u001b[1;32m     15\u001b[0m         v \u001b[38;5;241m=\u001b[39m v_prime\n",
      "Cell \u001b[0;32mIn[60], line 28\u001b[0m, in \u001b[0;36malpha_beta_pruning.<locals>.min_value\u001b[0;34m(state)\u001b[0m\n\u001b[1;32m     26\u001b[0m v \u001b[38;5;241m=\u001b[39m MAX\n\u001b[1;32m     27\u001b[0m \u001b[38;5;28;01mfor\u001b[39;00m successor \u001b[38;5;129;01min\u001b[39;00m game\u001b[38;5;241m.\u001b[39mactions(state):\n\u001b[0;32m---> 28\u001b[0m     v_prime \u001b[38;5;241m=\u001b[39m \u001b[38;5;28mmin\u001b[39m(v, max_value(game\u001b[38;5;241m.\u001b[39mresult(state, successor)))\n\u001b[1;32m     29\u001b[0m     \u001b[38;5;28;01mif\u001b[39;00m v_prime \u001b[38;5;241m<\u001b[39m v:\n\u001b[1;32m     30\u001b[0m         v \u001b[38;5;241m=\u001b[39m v_prime\n",
      "Cell \u001b[0;32mIn[60], line 18\u001b[0m, in \u001b[0;36malpha_beta_pruning.<locals>.max_value\u001b[0;34m(state)\u001b[0m\n\u001b[1;32m     16\u001b[0m \u001b[38;5;28;01mif\u001b[39;00m v_prime \u001b[38;5;241m>\u001b[39m\u001b[38;5;241m=\u001b[39m beta:\n\u001b[1;32m     17\u001b[0m     \u001b[38;5;28;01mreturn\u001b[39;00m v\n\u001b[0;32m---> 18\u001b[0m \u001b[38;5;28mprint\u001b[39m(\u001b[38;5;124mf\u001b[39m\u001b[38;5;124m\"\u001b[39m\u001b[38;5;132;01m{\u001b[39;00malpha\u001b[38;5;132;01m}\u001b[39;00m\u001b[38;5;124m\"\u001b[39m)\n\u001b[1;32m     19\u001b[0m \u001b[38;5;28;01mif\u001b[39;00m v_prime \u001b[38;5;241m>\u001b[39m alpha:\n\u001b[1;32m     20\u001b[0m     alpha \u001b[38;5;241m=\u001b[39m v_prime\n",
      "\u001b[0;31mUnboundLocalError\u001b[0m: cannot access local variable 'alpha' where it is not associated with a value"
     ]
    }
   ],
   "source": [
    "TicTacToe().play([player(alpha_beta_pruning), player(alpha_beta_pruning)])\n",
    "#TicTacToe().play([player(minmax_search), random_player])"
   ]
  },
  {
   "cell_type": "code",
   "execution_count": null,
   "metadata": {},
   "outputs": [],
   "source": []
  }
 ],
 "metadata": {
  "kernelspec": {
   "display_name": "ailab",
   "language": "python",
   "name": "python3"
  },
  "language_info": {
   "codemirror_mode": {
    "name": "ipython",
    "version": 3
   },
   "file_extension": ".py",
   "mimetype": "text/x-python",
   "name": "python",
   "nbconvert_exporter": "python",
   "pygments_lexer": "ipython3",
   "version": "3.12.2"
  }
 },
 "nbformat": 4,
 "nbformat_minor": 2
}
