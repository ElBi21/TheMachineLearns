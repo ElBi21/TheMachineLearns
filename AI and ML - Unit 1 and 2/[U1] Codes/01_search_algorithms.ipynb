{
  "cells": [
    {
      "cell_type": "markdown",
      "metadata": {},
      "source": [
        "<h1 align=\"center\"><b>Search Algorithms</b></h1>\n",
        "<h5 align=\"center\">Uninformed and Informed search</h5>\n",
        "\n",
        "---\n",
        "\n",
        "### Table of Contents\n",
        "\n",
        "1. [Preliminary Steps](#1-preliminary-steps)\n",
        "2. [Uninformed Search](#2-uninformed-search)\n",
        "    1. [Breadth-First Search (BFS)](#21-breadth-first-search-bfs)\n",
        "    2. [Depth-First Search (DFS)](#22-depth-first-search-dfs)\n",
        "3. [Informed Search](#3-informed-search)\n",
        "    1. [Uniform Cost Search (UCS)](#21-uniform-cost-search-ucs)\n",
        "\n",
        "---"
      ]
    },
    {
      "cell_type": "markdown",
      "metadata": {},
      "source": [
        "### 1) Preliminary Steps"
      ]
    },
    {
      "cell_type": "markdown",
      "metadata": {},
      "source": [
        "Importing the classes needed for the algorithm"
      ]
    },
    {
      "cell_type": "code",
      "execution_count": 2,
      "metadata": {},
      "outputs": [],
      "source": [
        "from __future__ import annotations\n",
        "from typing import Protocol, Iterator, Tuple, TypeVar, Optional\n",
        "import collections\n",
        "\n",
        "T = TypeVar('T')\n",
        "Location = TypeVar('Location')"
      ]
    },
    {
      "cell_type": "markdown",
      "metadata": {},
      "source": [
        "Defining the `Graph` and the `SimpleGraph` classes, which are needed to define the problem"
      ]
    },
    {
      "cell_type": "code",
      "execution_count": 3,
      "metadata": {},
      "outputs": [],
      "source": [
        "class Graph(Protocol):\n",
        "    def neighbors(self, id: Location) -> list[Location]:\n",
        "        pass\n",
        "\n",
        "class SimpleGraph:\n",
        "    def __init__(self):\n",
        "        self.edges: dict[Location, list[Location]] = {}\n",
        "\n",
        "    def neighbors(self, id: Location) -> list[Location]:\n",
        "        return self.edges[id]"
      ]
    },
    {
      "cell_type": "markdown",
      "metadata": {},
      "source": [
        "Defining some utility functions (so `from_id_width()`, `draw_tile()` and `draw_grid()`) for dealing with square grids"
      ]
    },
    {
      "cell_type": "code",
      "execution_count": 4,
      "metadata": {
        "colab": {
          "base_uri": "https://localhost:8080/"
        },
        "id": "J9r7NMvnjJad",
        "outputId": "962667b6-6ae5-44a2-826f-524a29f8d4ac"
      },
      "outputs": [],
      "source": [
        "def from_id_width(id, width):\n",
        "    return (id % width, id // width)\n",
        "\n",
        "def draw_tile(graph, id, style):\n",
        "    r = \" × \"\n",
        "    if id in graph.swamps: r = \"░░░\"\n",
        "    if 'number' in style and id in style['number']: r = \" %-2d\" % style['number'][id]\n",
        "    if 'point_to' in style and style['point_to'].get(id, None) is not None:\n",
        "        (x1, y1) = id\n",
        "        (x2, y2) = style['point_to'][id]\n",
        "        if x2 == x1 + 1: r = \" → \"\n",
        "        if x2 == x1 - 1: r = \" ← \"\n",
        "        if y2 == y1 + 1: r = \" ↓ \"\n",
        "        if y2 == y1 - 1: r = \" ↑ \"\n",
        "    if 'path' in style and id in style['path']:   r = \" ◆ \"\n",
        "    if 'start' in style and id == style['start']: r = \"[S]\"\n",
        "    if 'goal' in style and id == style['goal']:   r = \"[G]\"\n",
        "    if id in graph.walls: r = \"███\"\n",
        "    return r\n",
        "\n",
        "def draw_grid(graph, **style):\n",
        "    print(\"___\" * graph.width)\n",
        "    for y in range(graph.height):\n",
        "        for x in range(graph.width):\n",
        "            print(\"%s\" % draw_tile(graph, (x, y), style), end=\"\")\n",
        "        print()\n",
        "    print(\"---\" * graph.width)"
      ]
    },
    {
      "cell_type": "markdown",
      "metadata": {},
      "source": [
        "Defining the `SquareGrid` class and the `reconstruct_path()` function, which reconstructs visually the path discovered by the BFS algorithm"
      ]
    },
    {
      "cell_type": "code",
      "execution_count": 5,
      "metadata": {},
      "outputs": [],
      "source": [
        "GridLocation = Tuple[int, int]\n",
        "\n",
        "class SquareGrid:\n",
        "    def __init__(self, width: int, height: int):\n",
        "        self.width = width\n",
        "        self.height = height\n",
        "        self.walls: list[GridLocation] = []\n",
        "        self.swamps: list[GridLocation] = []\n",
        "\n",
        "    def in_bounds(self, id: GridLocation) -> bool:\n",
        "        (x, y) = id\n",
        "        return 0 <= x < self.width and 0 <= y < self.height\n",
        "\n",
        "    def passable(self, id: GridLocation) -> bool:\n",
        "        return id not in self.walls\n",
        "\n",
        "    def neighbors(self, id: GridLocation) -> Iterator[GridLocation]:\n",
        "        (x, y) = id\n",
        "        neighbors = [(x+1, y), (x-1, y), (x, y-1), (x, y+1)] # E W N S\n",
        "        # see \"Ugly paths\" section for an explanation:\n",
        "        if (x + y) % 2 == 0: neighbors.reverse() # S N W E\n",
        "        results = filter(self.in_bounds, neighbors)\n",
        "        results = filter(self.passable, results)\n",
        "        return results\n",
        "\n",
        "def reconstruct_path(came_from: dict[Location, Location],\n",
        "                     start: Location, goal: Location) -> list[Location]:\n",
        "    current: Location = goal\n",
        "    path: list[Location] = []\n",
        "    if goal not in came_from: # no path was found\n",
        "        return []\n",
        "    while current != start:\n",
        "        path.append(current)\n",
        "        current = came_from[current]\n",
        "    path.append(start) # optional\n",
        "    path.reverse() # optional\n",
        "    return path"
      ]
    },
    {
      "cell_type": "markdown",
      "metadata": {},
      "source": [
        "Finally, build the first diagram, and provide the `start` and `goal` coordinates"
      ]
    },
    {
      "cell_type": "code",
      "execution_count": 6,
      "metadata": {},
      "outputs": [
        {
          "name": "stdout",
          "output_type": "stream",
          "text": [
            "__________________________________________________________________________________________\n",
            " ×  ×  ×  ×  ×  ×  ×  ×  ×  ×  ×  ×  ×  ×  ×  ×  ×  ×  ×  ×  × ██████ ×  ×  ×  ×  ×  ×  × \n",
            " ×  ×  ×  ×  ×  ×  ×  ×  ×  ×  ×  ×  ×  ×  ×  ×  ×  ×  ×  ×  × ██████ ×  ×  ×  ×  ×  ×  × \n",
            " ×  ×  ×  ×  ×  ×  ×  ×  ×  ×  ×  ×  ×  ×  ×  ×  ×  ×  ×  ×  × ██████ ×  ×  ×  ×  ×  ×  × \n",
            " ×  ×  × ██████ ×  ×  ×  ×  ×  ×  ×  ×  ×  ×  ×  ×  ×  ×  ×  × ██████ ×  ×  ×  ×  ×  ×  × \n",
            " ×  ×  × ██████ ×  ×  ×  ×  ×  ×  ×  × ██████ ×  ×  ×  ×  ×  × ██████ ×  ×  ×  ×  ×  ×  × \n",
            " ×  ×  × ██████ ×  ×  ×  ×  ×  ×  ×  × ██████ ×  ×  ×  ×  ×  × ███████████████ ×  ×  ×  × \n",
            " ×  ×  × ██████ ×  ×  ×  ×  ×  ×  ×  × ██████ ×  ×  ×  ×  ×  × ███████████████ ×  ×  ×  × \n",
            " ×  ×  × ██████ ×  ×  × [S] ×  ×  ×  × ██████ ×  ×  ×  ×  ×  ×  ×  ×  ×  ×  ×  ×  ×  ×  × \n",
            " ×  ×  × ██████ ×  ×  ×  ×  ×  ×  ×  × ██████ ×  ×  × [G] ×  ×  ×  ×  ×  ×  ×  ×  ×  ×  × \n",
            " ×  ×  × ██████ ×  ×  ×  ×  ×  ×  ×  × ██████ ×  ×  ×  ×  ×  ×  ×  ×  ×  ×  ×  ×  ×  ×  × \n",
            " ×  ×  × ██████ ×  ×  ×  ×  ×  ×  ×  × ██████ ×  ×  ×  ×  ×  ×  ×  ×  ×  ×  ×  ×  ×  ×  × \n",
            " ×  ×  × ██████ ×  ×  ×  ×  ×  ×  ×  × ██████ ×  ×  ×  ×  ×  ×  ×  ×  ×  ×  ×  ×  ×  ×  × \n",
            " ×  ×  ×  ×  ×  ×  ×  ×  ×  ×  ×  ×  × ██████ ×  ×  ×  ×  ×  ×  ×  ×  ×  ×  ×  ×  ×  ×  × \n",
            " ×  ×  ×  ×  ×  ×  ×  ×  ×  ×  ×  ×  × ██████ ×  ×  ×  ×  ×  ×  ×  ×  ×  ×  ×  ×  ×  ×  × \n",
            " ×  ×  ×  ×  ×  ×  ×  ×  ×  ×  ×  ×  × ██████ ×  ×  ×  ×  ×  ×  ×  ×  ×  ×  ×  ×  ×  ×  × \n",
            "------------------------------------------------------------------------------------------\n"
          ]
        }
      ],
      "source": [
        "DIAGRAM1_WALLS = [from_id_width(id, width=30) for id in [21,22,51,52,81,82,93,94,111,112,123,\n",
        "                                                        124,133,134,141,142,153,154,163,164,\n",
        "                                                        171,172,173,174,175,183,184,193,194,\n",
        "                                                        201,202,203,204,205,213,214,223,224,\n",
        "                                                        243,244,253,254,273,274,283,284,303,\n",
        "                                                        304,313,314,333,334,343,344,373,374,\n",
        "                                                        403,404,433,434]]\n",
        "g = SquareGrid(30, 15)\n",
        "g.walls = DIAGRAM1_WALLS\n",
        "\n",
        "start = (8, 7)\n",
        "goal = (18, 8)\n",
        "\n",
        "draw_grid(g, start=start, goal=goal)"
      ]
    },
    {
      "cell_type": "markdown",
      "metadata": {},
      "source": [
        "---"
      ]
    },
    {
      "cell_type": "markdown",
      "metadata": {
        "id": "WBT0fscjjURW"
      },
      "source": [
        "### 2) Uninformed Search"
      ]
    },
    {
      "cell_type": "markdown",
      "metadata": {},
      "source": [
        "Before building the algorithms, two last classes must be defined, and these are the `FIFO` and `LIFO` classes, which will be the basis of our frontiers in the BFS and DFS algorithms respectively:"
      ]
    },
    {
      "cell_type": "code",
      "execution_count": 7,
      "metadata": {},
      "outputs": [],
      "source": [
        "class FIFO:\n",
        "    \"\"\"A simple queue implementation using `collections.deque`.\"\"\"\n",
        "    def __init__(self) -> None:\n",
        "        self.elements: collections.deque[T] = collections.deque()\n",
        "\n",
        "    def empty(self) -> bool:\n",
        "        \"\"\"Checks whether a FIFO queue is empty or not\n",
        "\n",
        "        Returns:\n",
        "                status (bool):          if `true`, then the queue is empty; if `false`,\n",
        "                                        then the queue still contains some elements \"\"\"\n",
        "        return not self.elements\n",
        "    \n",
        "    def put(self, x: T) -> None:\n",
        "        \"\"\"Puts into the FIFO queue an item `x`\n",
        "\n",
        "        Parameters:\n",
        "                x (T):                  the item to put inside the queue \"\"\"\n",
        "        self.elements.append(x)\n",
        "\n",
        "    def get(self) -> T:\n",
        "        \"\"\"Pops the left-most item from the queue, and returns it\n",
        "\n",
        "        Returns:\n",
        "                x (T):                  the item popped from the queue \"\"\"\n",
        "        return self.elements.popleft()"
      ]
    },
    {
      "cell_type": "code",
      "execution_count": 8,
      "metadata": {},
      "outputs": [],
      "source": [
        "class LIFO:\n",
        "    \"\"\"A simple queue implementation using `collections.deque`.\"\"\"\n",
        "    def __init__(self) -> None:\n",
        "        self.elements: collections.deque[T] = collections.deque()\n",
        "\n",
        "    def empty(self) -> bool:\n",
        "        \"\"\"Checks whether a FIFO queue is empty or not\n",
        "\n",
        "        Returns:\n",
        "                status (bool):          if `true`, then the queue is empty; if `false`,\n",
        "                                        then the queue still contains some elements \"\"\"\n",
        "        return not self.elements\n",
        "\n",
        "    def put(self, x: T) -> None:\n",
        "        \"\"\"Puts into the FIFO queue an item `x`\n",
        "\n",
        "        Parameters:\n",
        "                x (T):                  the item to put inside the queue \"\"\"\n",
        "        self.elements.append(x)\n",
        "\n",
        "    def get(self) -> T:\n",
        "        \"\"\"Pops the first item from the queue, and returns it\n",
        "\n",
        "        Returns:\n",
        "                x (T):                  the item popped from the queue \"\"\"\n",
        "        return self.elements.pop()"
      ]
    },
    {
      "cell_type": "markdown",
      "metadata": {},
      "source": [
        "#### 2.1) Breadth First Search (BFS)\n",
        "\n",
        "Now we can finally build the `breadth_first_search()` algorithm"
      ]
    },
    {
      "cell_type": "code",
      "execution_count": 9,
      "metadata": {
        "id": "eiHg-VDej5vn"
      },
      "outputs": [],
      "source": [
        "def breadth_first_search(graph: Graph, start: Location, goal: Location):\n",
        "    \"\"\"Implementation of a BFS algorithm in Python\n",
        "    \n",
        "    Parameters:\n",
        "                graph (`Graph`): a graph of the problem\n",
        "                start (`Location`): the point where the algorithm should start\n",
        "                goal (`Location`): the goal of the problem\n",
        "                \n",
        "    Returns\n",
        "                solution (`dict[Location, Location | None]`): if solution returns `None` then\n",
        "                                                                the algorithm failed, otherwise\n",
        "                                                                it will return the solution\"\"\"\n",
        "    frontier = FIFO()       # Initialize the frontier\n",
        "    frontier.put(start)     # Put the start in the frontier\n",
        "    came_from: dict[Location, Optional[Location]] = {}  # Create a dictionary\n",
        "                                                        # that returns from where\n",
        "                                                        # we reached a node\n",
        "    came_from[start] = None     # Naturally, we don't come from anywhere\n",
        "                                # if we consider the start\n",
        "\n",
        "    while frontier:     # While the frontier is not empty\n",
        "        current: Location = frontier.get()      # Store into \"current\" a Location, \n",
        "                                                # which is the first item popped\n",
        "                                                # from the frontier\n",
        "        if current == goal:     # If the currently examined node is the goal...\n",
        "            break       # ...exit from the loop and return it\n",
        "        for next in graph.neighbors(current):   # For all the neighbours of \"current\"\n",
        "            if next not in came_from:       # If we didn't examine the neighbour...\n",
        "                frontier.put(next)      # ...then put it in the frontier...\n",
        "                came_from[next] = current   # ...and store it in \"came_from\"\n",
        "    \n",
        "    return came_from    # Return the node\n"
      ]
    },
    {
      "cell_type": "markdown",
      "metadata": {},
      "source": [
        "We can finally see the result of the algorithm: the arrows denote all the cells where the algorithm passed, and they denote the path from the goal to the start. In the next output, the path found by the algorithm is denoted by the `◆` symbols"
      ]
    },
    {
      "cell_type": "code",
      "execution_count": 10,
      "metadata": {
        "id": "DIyHqQZEjyEv"
      },
      "outputs": [
        {
          "name": "stdout",
          "output_type": "stream",
          "text": [
            "__________________________________________________________________________________________\n",
            " →  →  →  ↓  ↓  ↓  ↓  ↓  ↓  ↓  ↓  ↓  ↓  ↓  ↓  ↓  ←  ←  ←  ←  ← ██████ ×  ×  ×  ×  ×  ×  × \n",
            " →  →  →  →  ↓  ↓  ↓  ↓  ↓  ↓  ↓  ↓  ↓  ↓  ↓  ←  ←  ←  ←  ←  ← ██████ ×  ×  ×  ×  ×  ×  × \n",
            " →  →  →  →  →  ↓  ↓  ↓  ↓  ↓  ↓  ↓  ↓  ↓  ←  ←  ←  ←  ←  ←  ← ██████ ×  ×  ×  ×  ×  ×  × \n",
            " →  →  ↑ ██████ ↓  ↓  ↓  ↓  ↓  ↓  ↓  ↓  ←  ←  ←  ←  ←  ←  ←  ← ██████ ×  ×  ×  ×  ×  ×  × \n",
            " →  ↑  ↑ ██████ ↓  ↓  ↓  ↓  ↓  ↓  ↓  ← ██████ ↑  ←  ←  ←  ←  ← ██████ ×  ×  ×  ×  ×  ×  × \n",
            " ↑  ↑  ↑ ██████ →  ↓  ↓  ↓  ↓  ↓  ←  ← ██████ ↑  ↑  ←  ←  ←  ← ███████████████ ×  ×  ×  × \n",
            " ↑  ↑  ↑ ██████ →  →  ↓  ↓  ↓  ←  ←  ← ██████ ↑  ↑  ↑  ←  ←  ← ███████████████ ×  ×  ×  × \n",
            " ↓  ↓  ↓ ██████ →  →  → [S] ←  ←  ←  ← ██████ ↑  ↑  ↑  ↑  ←  ←  ×  ×  ×  ×  ×  ×  ×  ×  × \n",
            " ↓  ↓  ↓ ██████ →  →  ↑  ↑  ↑  ←  ←  ← ██████ ↑  ↑  ↑ [G] ↑  ×  ×  ×  ×  ×  ×  ×  ×  ×  × \n",
            " ↓  ↓  ↓ ██████ →  ↑  ↑  ↑  ↑  ↑  ←  ← ██████ ↑  ↑  ↑  ×  ×  ×  ×  ×  ×  ×  ×  ×  ×  ×  × \n",
            " →  ↓  ↓ ██████ ↑  ↑  ↑  ↑  ↑  ↑  ↑  ← ██████ ↑  ↑  ×  ×  ×  ×  ×  ×  ×  ×  ×  ×  ×  ×  × \n",
            " →  →  ↓ ██████ ↑  ↑  ↑  ↑  ↑  ↑  ↑  ↑ ██████ ↑  ×  ×  ×  ×  ×  ×  ×  ×  ×  ×  ×  ×  ×  × \n",
            " →  →  →  →  →  ↑  ↑  ↑  ↑  ↑  ↑  ↑  ↑ ██████ ×  ×  ×  ×  ×  ×  ×  ×  ×  ×  ×  ×  ×  ×  × \n",
            " →  →  →  →  ↑  ↑  ↑  ↑  ↑  ↑  ↑  ↑  ↑ ██████ ×  ×  ×  ×  ×  ×  ×  ×  ×  ×  ×  ×  ×  ×  × \n",
            " →  →  →  ↑  ↑  ↑  ↑  ↑  ↑  ↑  ↑  ↑  ↑ ██████ ×  ×  ×  ×  ×  ×  ×  ×  ×  ×  ×  ×  ×  ×  × \n",
            "------------------------------------------------------------------------------------------\n"
          ]
        }
      ],
      "source": [
        "parents = breadth_first_search(g, start, goal)\n",
        "draw_grid(g, point_to=parents, start=start, goal=goal)"
      ]
    },
    {
      "cell_type": "code",
      "execution_count": 11,
      "metadata": {},
      "outputs": [
        {
          "name": "stdout",
          "output_type": "stream",
          "text": [
            "__________________________________________________________________________________________\n",
            " ×  ×  ×  ×  ×  ×  ×  ×  ×  ×  ×  ×  ×  ×  ×  ×  ×  ×  ×  ×  × ██████ ×  ×  ×  ×  ×  ×  × \n",
            " ×  ×  ×  ×  ×  ×  ×  ×  ×  ×  ×  ×  ×  ×  ×  ×  ×  ×  ×  ×  × ██████ ×  ×  ×  ×  ×  ×  × \n",
            " ×  ×  ×  ×  ×  ×  ×  ×  ×  ×  ×  ×  ×  ×  ×  ×  ×  ×  ×  ×  × ██████ ×  ×  ×  ×  ×  ×  × \n",
            " ×  ×  × ██████ ×  ×  ×  ×  ×  ×  ×  ◆  ◆  ◆  ◆  ×  ×  ×  ×  × ██████ ×  ×  ×  ×  ×  ×  × \n",
            " ×  ×  × ██████ ×  ×  ×  ×  ×  ×  ◆  ◆ ██████ ◆  ◆  ×  ×  ×  × ██████ ×  ×  ×  ×  ×  ×  × \n",
            " ×  ×  × ██████ ×  ×  ×  ×  ×  ◆  ◆  × ██████ ×  ◆  ◆  ×  ×  × ███████████████ ×  ×  ×  × \n",
            " ×  ×  × ██████ ×  ×  ×  ×  ◆  ◆  ×  × ██████ ×  ×  ◆  ◆  ×  × ███████████████ ×  ×  ×  × \n",
            " ×  ×  × ██████ ×  ×  × [S] ◆  ×  ×  × ██████ ×  ×  ×  ◆  ×  ×  ×  ×  ×  ×  ×  ×  ×  ×  × \n",
            " ×  ×  × ██████ ×  ×  ×  ×  ×  ×  ×  × ██████ ×  ×  × [G] ×  ×  ×  ×  ×  ×  ×  ×  ×  ×  × \n",
            " ×  ×  × ██████ ×  ×  ×  ×  ×  ×  ×  × ██████ ×  ×  ×  ×  ×  ×  ×  ×  ×  ×  ×  ×  ×  ×  × \n",
            " ×  ×  × ██████ ×  ×  ×  ×  ×  ×  ×  × ██████ ×  ×  ×  ×  ×  ×  ×  ×  ×  ×  ×  ×  ×  ×  × \n",
            " ×  ×  × ██████ ×  ×  ×  ×  ×  ×  ×  × ██████ ×  ×  ×  ×  ×  ×  ×  ×  ×  ×  ×  ×  ×  ×  × \n",
            " ×  ×  ×  ×  ×  ×  ×  ×  ×  ×  ×  ×  × ██████ ×  ×  ×  ×  ×  ×  ×  ×  ×  ×  ×  ×  ×  ×  × \n",
            " ×  ×  ×  ×  ×  ×  ×  ×  ×  ×  ×  ×  × ██████ ×  ×  ×  ×  ×  ×  ×  ×  ×  ×  ×  ×  ×  ×  × \n",
            " ×  ×  ×  ×  ×  ×  ×  ×  ×  ×  ×  ×  × ██████ ×  ×  ×  ×  ×  ×  ×  ×  ×  ×  ×  ×  ×  ×  × \n",
            "------------------------------------------------------------------------------------------\n"
          ]
        }
      ],
      "source": [
        "draw_grid(g, path=reconstruct_path(parents, start=start, goal=goal), start=start, goal=goal)"
      ]
    },
    {
      "cell_type": "markdown",
      "metadata": {},
      "source": [
        "#### 2.2) Depth-First Search (DFS)\n",
        "\n",
        "The Depth-First Search algorithm explores one branch at a time, and is implemented with the `LIFO` queue:"
      ]
    },
    {
      "cell_type": "code",
      "execution_count": 18,
      "metadata": {},
      "outputs": [],
      "source": [
        "def depth_first_search(graph: Graph, start: Location, goal: Location):\n",
        "    \"\"\"Implementation of a DFS algorithm in Python\n",
        "    \n",
        "    Parameters:\n",
        "                graph (`Graph`): a graph of the problem\n",
        "                start (`Location`): the point where the algorithm should start\n",
        "                goal (`Location`): the goal of the problem\n",
        "                \n",
        "    Returns\n",
        "                solution (`dict[Location, Location | None]`): if solution returns `None` then\n",
        "                                                                the algorithm failed, otherwise\n",
        "                                                                it will return the solution\"\"\"\n",
        "    frontier = LIFO()   # Initialize the frontier\n",
        "    frontier.put(start) # Put the start into the frontier\n",
        "    came_from: dict[Location, Optional[Location]] = {}  # Save into the dictionary from where\n",
        "                                                        # we came\n",
        "    came_from[start] = None # Naturally, we don't come from anywhere with the start\n",
        "\n",
        "    while not frontier.empty(): # While the frontier is not empty\n",
        "        current: Location = frontier.get()  # Get the first element of the frontier\n",
        "        if current == goal: # If the currently examinated element is the goal...\n",
        "            break   # ...then exit from the loop\n",
        "        for next in graph.neighbors(current):   # For each neighbour of the examinated node...\n",
        "            if next not in came_from:   # ...if we didn't examine the node yet...\n",
        "                frontier.put(next)  # ...put the node into the frontier...\n",
        "                came_from[next] = current   # ...and set that we reached such node from the previous element\n",
        "\n",
        "    return came_from    # Finally, return all the paths"
      ]
    },
    {
      "cell_type": "markdown",
      "metadata": {},
      "source": [
        "This is the result of the algorithm:"
      ]
    },
    {
      "cell_type": "code",
      "execution_count": 19,
      "metadata": {},
      "outputs": [
        {
          "name": "stdout",
          "output_type": "stream",
          "text": [
            "_________________________________\n",
            " →  →  →  →  ↓  ↓  ←  ←  ←  →  ↓ \n",
            " →  ↑  ↑  →  →  ↓  ↓  ↑  ←  ←  ↓ \n",
            " ↑  ↑  ←  ←  →  →  ↓  ↓  ↑  ←  ← \n",
            " ↑  ↓  ↑  ↑  ←  →  →  ↓ [G] ↑  ← \n",
            " → [S] ←  ↑  ↑  ←  →  →  ↓  ↓  ↑ \n",
            " →  ↑  ←  ←  ↓  ↓  ↑  →  →  ↓  ↓ \n",
            " ×  ↑  ↑  ←  ←  ←  ←  ×  →  →  ↓ \n",
            " × █████████ ↑  ↑  ←  ←  ×  →  ↓ \n",
            " × █████████░░░ ↑  ↑  ←  ←  ↓  ↓ \n",
            " ×  ×  ×  ×  ×  ×  ↑  ↑  ←  ←  ← \n",
            "---------------------------------\n"
          ]
        }
      ],
      "source": [
        "parents = depth_first_search(g, start, goal)\n",
        "draw_grid(g, point_to=parents, start=start, goal=goal)"
      ]
    },
    {
      "cell_type": "code",
      "execution_count": 20,
      "metadata": {},
      "outputs": [
        {
          "name": "stdout",
          "output_type": "stream",
          "text": [
            "_________________________________\n",
            " ×  ×  ×  ×  ×  ×  ×  ×  ×  ×  × \n",
            " ×  ×  ×  × ░░░░░░ ×  ×  ×  ×  × \n",
            " ×  ×  ×  × ░░░░░░░░░ ×  ×  ×  × \n",
            " ×  ×  ×  × ░░░░░░░░░░░░[G] ×  × \n",
            " × [S] × ░░░░░░░░░░░░░░░ ◆  ×  × \n",
            " ×  ◆  ◆ ░░░░░░░░░░░░░░░ ◆  ◆  × \n",
            " ×  ×  ◆  ◆  ◆  ◆ ░░░ ×  ×  ◆  ◆ \n",
            " × █████████░░░ ◆  ◆  ×  ×  ×  ◆ \n",
            " × █████████░░░░░░ ◆  ◆  ×  ×  ◆ \n",
            " ×  ×  ×  ×  ×  ×  ×  ◆  ◆  ◆  ◆ \n",
            "---------------------------------\n"
          ]
        }
      ],
      "source": [
        "draw_grid(g, path=reconstruct_path(parents, start=start, goal=goal),start=start, goal=goal)"
      ]
    },
    {
      "cell_type": "markdown",
      "metadata": {},
      "source": [
        "---"
      ]
    },
    {
      "cell_type": "markdown",
      "metadata": {
        "id": "tsYCVs17jXza"
      },
      "source": [
        "### 3) Informed Search"
      ]
    },
    {
      "cell_type": "markdown",
      "metadata": {},
      "source": [
        "In order to make an informed search algorithm, we first want to complicate the things a bit. We now introduce also a cost into the grid, which is given by the \"swamp\": crossing the swamp has an higher cost than the normal path."
      ]
    },
    {
      "cell_type": "code",
      "execution_count": 12,
      "metadata": {
        "colab": {
          "base_uri": "https://localhost:8080/"
        },
        "id": "CsbkilBwjXHq",
        "outputId": "19b51dca-853c-4a00-d184-916f4adeab05"
      },
      "outputs": [
        {
          "name": "stdout",
          "output_type": "stream",
          "text": [
            "_________________________________\n",
            " ×  ×  ×  ×  ×  ×  ×  ×  ×  ×  × \n",
            " ×  ×  ×  × ░░░░░░ ×  ×  ×  ×  × \n",
            " ×  ×  ×  × ░░░░░░░░░ ×  ×  ×  × \n",
            " ×  ×  ×  × ░░░░░░░░░░░░[G] ×  × \n",
            " × [S] × ░░░░░░░░░░░░░░░ ×  ×  × \n",
            " ×  ×  × ░░░░░░░░░░░░░░░ ×  ×  × \n",
            " ×  ×  ×  × ░░░░░░░░░ ×  ×  ×  × \n",
            " × █████████░░░░░░░░░ ×  ×  ×  × \n",
            " × █████████░░░░░░ ×  ×  ×  ×  × \n",
            " ×  ×  ×  ×  ×  ×  ×  ×  ×  ×  × \n",
            "---------------------------------\n"
          ]
        }
      ],
      "source": [
        "from os import get_blocking\n",
        "class WeightedGraph(Graph):\n",
        "    def cost(self, from_id: Location, to_id: Location) -> float: pass\n",
        "\n",
        "class GridWithWeights(SquareGrid):\n",
        "    def __init__(self, width: int, height: int):\n",
        "        super().__init__(width, height)\n",
        "        self.weights: dict[GridLocation, float] = {}\n",
        "\n",
        "    def cost(self, from_node: GridLocation, to_node: GridLocation) -> float:\n",
        "        if to_node in self.swamps:\n",
        "            return self.weights.get(to_node, 5)\n",
        "        return self.weights.get(to_node, 1)\n",
        "\n",
        "\n",
        "D4_walls = [(1, 7), (1, 8), (2, 7), (2, 8), (3, 7), (3, 8)]\n",
        "D4_swamp = {loc: 5 for loc in [(3, 4), (3, 5), (4, 1), (4, 2),\n",
        "                                       (4, 3), (4, 4), (4, 5), (4, 6),\n",
        "                                       (4, 7), (4, 8), (5, 1), (5, 2),\n",
        "                                       (5, 3), (5, 4), (5, 5), (5, 6),\n",
        "                                       (5, 7), (5, 8), (6, 2), (6, 3),\n",
        "                                       (6, 4), (6, 5), (6, 6), (6, 7),\n",
        "                                       (7, 3), (7, 4), (7, 5)]}\n",
        "\n",
        "\n",
        "start, goal = (1, 4), (8, 3)\n",
        "g = GridWithWeights(11, 10)\n",
        "g.walls = D4_walls\n",
        "g.swamps = D4_swamp\n",
        "draw_grid(g, start=start, goal=goal)"
      ]
    },
    {
      "cell_type": "markdown",
      "metadata": {},
      "source": [
        "In order to implement our heuristic function, we first need to create a priority queue, since we'll need to order the nodes in the frontier depending on the heuristic:"
      ]
    },
    {
      "cell_type": "code",
      "execution_count": 13,
      "metadata": {},
      "outputs": [],
      "source": [
        "import heapq\n",
        "\n",
        "class PriorityQueue:\n",
        "    def __init__(self):\n",
        "        self.elements: list[tuple[float, T]] = []\n",
        "\n",
        "    def empty(self) -> bool:\n",
        "        return not self.elements\n",
        "\n",
        "    def put(self, item: T, priority: float):\n",
        "        heapq.heappush(self.elements, (priority, item))\n",
        "\n",
        "    def get(self) -> T:\n",
        "        return heapq.heappop(self.elements)[1]"
      ]
    },
    {
      "cell_type": "markdown",
      "metadata": {},
      "source": [
        "#### 2.1) Uniform Cost Search (UCS)\n",
        "\n",
        "Now we can design the first algorithm, which will be a Uniform Cost Search (UCS) algorithm:"
      ]
    },
    {
      "cell_type": "code",
      "execution_count": 14,
      "metadata": {},
      "outputs": [],
      "source": [
        "def uc_search(graph: WeightedGraph, start: Location, goal: Location):\n",
        "    \"\"\"Implementation of a Uniform Cost Search algorithm in Python\n",
        "    \n",
        "    Parameters:\n",
        "                graph (`WeightedGraph`): a weighted graph of the problem\n",
        "                start (`Location`): the point where the algorithm should start\n",
        "                goal (`Location`): the goal of the problem\n",
        "                \n",
        "    Returns\n",
        "                solution (`tuple[dict[Location, Location | None], dict[Location, float]]`): if solution returns `None` then\n",
        "                                                                                            the algorithm failed, otherwise\n",
        "                                                                                            it will return the solution. A second\n",
        "                                                                                            dictionary is returned, which\n",
        "                                                                                            defines the cost needed to reach\n",
        "                                                                                            each location\"\"\"\n",
        "    frontier = PriorityQueue()  # Initialize the frontier as a priority queue\n",
        "    frontier.put(start, 0)      # Put the start into the queue\n",
        "    \n",
        "    came_from: dict[Location, Optional[Location]] = {}      # Store the path and from\n",
        "                                                            # where we came\n",
        "    came_from[start] = None     # Since the start is the first node, set that\n",
        "                                # we didn't come from anywhere\n",
        "\n",
        "    cost_so_far: dict[Location, float] = {}     # Store the cost up to a node n\n",
        "    cost_so_far[start] = 0      # The cost to reach the start from the start is 0\n",
        "\n",
        "    while not frontier.empty():     # While the frontier is not empty\n",
        "        current: Location = frontier.get()  # Get the first element of the queue\n",
        "        if current == goal:     # If such element is the goal...\n",
        "            break       # ...exit from the loop\n",
        "        for next in graph.neighbors(current):   # For each neighbour of the element\n",
        "            new_cost = cost_so_far[current] + graph.cost(current, next) # Get the new cost\n",
        "                                                                        # needed to reach the\n",
        "                                                                        # neighbour\n",
        "            if (next not in cost_so_far) or (new_cost < cost_so_far[next]): # If we didn't explore\n",
        "                                                                            # such node before...\n",
        "                cost_so_far[next] = new_cost    # ...store the cost up to the node...\n",
        "                frontier.put(next, new_cost) # ...put in the queue the node with its cost so far,\n",
        "                                             # which now becomes the priority...\n",
        "                came_from[next] = current   # ...and store the path to the node\n",
        "\n",
        "    return came_from, cost_so_far   # Finally, return the path and the costs"
      ]
    },
    {
      "cell_type": "markdown",
      "metadata": {},
      "source": [
        "We can now preview the results of the algorithm: first, we check all the explored cells of the algorithm"
      ]
    },
    {
      "cell_type": "code",
      "execution_count": 15,
      "metadata": {},
      "outputs": [
        {
          "name": "stdout",
          "output_type": "stream",
          "text": [
            "_________________________________\n",
            " ↓  ↓  ←  ←  ←  ←  ←  ←  ←  ←  ← \n",
            " ↓  ↓  ←  ←  ←  ↑  ↑  ←  ←  ←  ← \n",
            " ↓  ↓  ←  ←  ←  ←  ↑  ↑  ←  ←  × \n",
            " ↓  ↓  ←  ←  ←  ←  ←  ↑ [G] ×  × \n",
            " → [S] ←  ←  ←  ← ░░░░░░ ×  ×  × \n",
            " ↑  ↑  ←  ←  ←  ← ░░░░░░ ×  ×  × \n",
            " ↑  ↑  ←  ←  ←  ←  ←  ×  ×  ×  × \n",
            " ↑ █████████ ↑  ←  ↓  ↓  ×  ×  × \n",
            " ↑ █████████ ↓  ↓  ↓  ←  ←  ×  × \n",
            " ↑  ←  ←  ←  ←  ←  ←  ←  ←  ×  × \n",
            "---------------------------------\n"
          ]
        }
      ],
      "source": [
        "parents, cost = uc_search(g, start, goal)\n",
        "draw_grid(g, point_to=parents, start=start, goal=goal)"
      ]
    },
    {
      "cell_type": "markdown",
      "metadata": {},
      "source": [
        "The final path of the algorithm is, as usual, the one denoted by the `◆` symbol:"
      ]
    },
    {
      "cell_type": "code",
      "execution_count": 16,
      "metadata": {},
      "outputs": [
        {
          "name": "stdout",
          "output_type": "stream",
          "text": [
            "_________________________________\n",
            " ×  ◆  ◆  ◆  ◆  ◆  ◆  ×  ×  ×  × \n",
            " ×  ◆  ×  × ░░░░░░ ◆  ◆  ×  ×  × \n",
            " ×  ◆  ×  × ░░░░░░░░░ ◆  ◆  ×  × \n",
            " ×  ◆  ×  × ░░░░░░░░░░░░[G] ×  × \n",
            " × [S] × ░░░░░░░░░░░░░░░ ×  ×  × \n",
            " ×  ×  × ░░░░░░░░░░░░░░░ ×  ×  × \n",
            " ×  ×  ×  × ░░░░░░░░░ ×  ×  ×  × \n",
            " × █████████░░░░░░░░░ ×  ×  ×  × \n",
            " × █████████░░░░░░ ×  ×  ×  ×  × \n",
            " ×  ×  ×  ×  ×  ×  ×  ×  ×  ×  × \n",
            "---------------------------------\n"
          ]
        }
      ],
      "source": [
        "draw_grid(g, path=reconstruct_path(parents, start=start, goal=goal),start=start, goal=goal)"
      ]
    },
    {
      "cell_type": "markdown",
      "metadata": {},
      "source": [
        "Finally, we can see the cost of all the cells explored by the algorithm:"
      ]
    },
    {
      "cell_type": "code",
      "execution_count": 17,
      "metadata": {},
      "outputs": [
        {
          "name": "stdout",
          "output_type": "stream",
          "text": [
            "_________________________________\n",
            " 5  4  5  6  7  8  9  10 11 12 13\n",
            " 4  3  4  5  10 13 10 11 12 13 14\n",
            " 3  2  3  4  9  14 15 12 13 14 × \n",
            " 2  1  2  3  8  13 18 17[G] ×  × \n",
            " 1 [S] 1  6  11 16░░░░░░ ×  ×  × \n",
            " 2  1  2  7  12 17░░░░░░ ×  ×  × \n",
            " 3  2  3  4  9  14 19 ×  ×  ×  × \n",
            " 4 █████████ 14 19 18 15 ×  ×  × \n",
            " 5 █████████ 15 16 13 14 15 ×  × \n",
            " 6  7  8  9  10 11 12 13 14 ×  × \n",
            "---------------------------------\n"
          ]
        }
      ],
      "source": [
        "draw_grid(g, number=cost, start=start, goal=goal)"
      ]
    }
  ],
  "metadata": {
    "colab": {
      "provenance": []
    },
    "kernelspec": {
      "display_name": "Python 3",
      "name": "python3"
    },
    "language_info": {
      "codemirror_mode": {
        "name": "ipython",
        "version": 3
      },
      "file_extension": ".py",
      "mimetype": "text/x-python",
      "name": "python",
      "nbconvert_exporter": "python",
      "pygments_lexer": "ipython3",
      "version": "3.12.2"
    }
  },
  "nbformat": 4,
  "nbformat_minor": 0
}
